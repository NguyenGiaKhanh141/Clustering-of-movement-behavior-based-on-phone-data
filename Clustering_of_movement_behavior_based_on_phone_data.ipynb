{
  "cells": [
    {
      "cell_type": "markdown",
      "metadata": {
        "id": "view-in-github",
        "colab_type": "text"
      },
      "source": [
        "<a href=\"https://colab.research.google.com/github/NguyenGiaKhanh141/Clustering-of-movement-behavior-based-on-phone-data/blob/main/Clustering_of_movement_behavior_based_on_phone_data.ipynb\" target=\"_parent\"><img src=\"https://colab.research.google.com/assets/colab-badge.svg\" alt=\"Open In Colab\"/></a>"
      ]
    },
    {
      "cell_type": "markdown",
      "metadata": {
        "id": "GOQnxzmBv9De"
      },
      "source": [
        "<h1 align=center><font size = 10> k-Means </font></h1>"
      ]
    },
    {
      "cell_type": "markdown",
      "metadata": {
        "id": "usAKqVxNv9Dn"
      },
      "source": [
        "In this notebook, we try to practice one of the most popular algorithms in Clustering that we learned in this course: k-Means algorithm. \n",
        "\n",
        "We load a dataset using Pandas library and apply k-Means to explore information from data.\n",
        "Lets first load required libraries:"
      ]
    },
    {
      "cell_type": "code",
      "execution_count": null,
      "metadata": {
        "id": "Q5O9fzThv9D0"
      },
      "outputs": [],
      "source": [
        "import pandas as pd\n",
        "\n",
        "import matplotlib.pyplot as plt\n",
        "import matplotlib\n",
        "\n",
        "matplotlib.style.use('ggplot') # Look Pretty\n",
        "\n",
        "def showandtell(title=None):\n",
        "  plt.show()"
      ]
    },
    {
      "cell_type": "markdown",
      "metadata": {
        "id": "MHmnU6zOv9EN"
      },
      "source": [
        "A convenience function for you to use:"
      ]
    },
    {
      "cell_type": "code",
      "execution_count": null,
      "metadata": {
        "id": "k1-xfZQcv9EU"
      },
      "outputs": [],
      "source": [
        "def clusterInfo(model):\n",
        "    print(\"Cluster Analysis Inertia: \", model.inertia_)\n",
        "    print('------------------------------------------')\n",
        "    \n",
        "    for i in range(len(model.cluster_centers_)):\n",
        "        print(\"\\n  Cluster \", i)\n",
        "        print(\"    Centroid \", model.cluster_centers_[i])\n",
        "        print(\"    #Samples \", (model.labels_==i).sum()) # NumPy Power"
      ]
    },
    {
      "cell_type": "code",
      "execution_count": null,
      "metadata": {
        "id": "UrvyqEsYv9Ex"
      },
      "outputs": [],
      "source": [
        "# Find the cluster with the least # attached nodes\n",
        "def clusterWithFewestSamples(model):\n",
        "    # Ensure there's at least on cluster...\n",
        "    minSamples = len(model.labels_)\n",
        "    minCluster = 0\n",
        "    \n",
        "    for i in range(len(model.cluster_centers_)):\n",
        "        if minSamples > (model.labels_==i).sum():\n",
        "            minCluster = i\n",
        "            minSamples = (model.labels_==i).sum()\n",
        "\n",
        "    print(\"\\n  Cluster With Fewest Samples: \", minCluster)\n",
        "    return (model.labels_==minCluster)"
      ]
    },
    {
      "cell_type": "markdown",
      "metadata": {
        "id": "C1WB0kN2v9FD"
      },
      "source": [
        "# Mandatory part (85%  of the total score)"
      ]
    },
    {
      "cell_type": "markdown",
      "metadata": {
        "collapsed": true,
        "id": "05e8jGU-v9FJ"
      },
      "source": [
        "### About dataset"
      ]
    },
    {
      "cell_type": "markdown",
      "metadata": {
        "collapsed": true,
        "id": "ibSiQYQ2v9FR"
      },
      "source": [
        "A [call detail record](https://en.wikipedia.org/wiki/Call_detail_record) (CDR) is a data record produced by a telephone exchange or other telecommunications equipment that documents the details of a telephone call or other telecommunications transaction (e.g., text message) that passes through that facility or device.\n",
        "\n",
        "The questions you'll be exploring in this lab assignment using K-Means are: exactly how useful is telephone metadata? It must have some use, otherwise, the government wouldn't have invested however many millions they did into it secretly collecting it from phone carriers. Also what kind of intelligence can you extract from CDR metadata besides its face value?\n",
        "\n",
        "The record contains various attributes of the call, such as time, duration, completion status, source number, and destination number. It is the automated equivalent of the paper toll tickets that were written and timed by operators for long-distance calls in a manual telephone exchange.\n",
        "\n",
        "The dataset we've curated for you contains call records of 10 people, tracked over the course of 3 years. Your job in this assignment is to find out where each of these people likely live and where they work at!\n",
        "\n",
        "\n",
        "**1. Start by loading up the dataset and taking a peek at its head. You have to convert date-strings to real date-time objects using `pd.to_datetime`, and the times using `pd.to_timedelta`:**"
      ]
    },
    {
      "cell_type": "code",
      "execution_count": null,
      "metadata": {
        "id": "Npt52hzD9Pwu",
        "outputId": "8b819dbd-7e50-4a29-9358-fadaa30f7d17"
      },
      "outputs": [
        {
          "data": {
            "text/html": [
              "<div>\n",
              "<style scoped>\n",
              "    .dataframe tbody tr th:only-of-type {\n",
              "        vertical-align: middle;\n",
              "    }\n",
              "\n",
              "    .dataframe tbody tr th {\n",
              "        vertical-align: top;\n",
              "    }\n",
              "\n",
              "    .dataframe thead th {\n",
              "        text-align: right;\n",
              "    }\n",
              "</style>\n",
              "<table border=\"1\" class=\"dataframe\">\n",
              "  <thead>\n",
              "    <tr style=\"text-align: right;\">\n",
              "      <th></th>\n",
              "      <th>In</th>\n",
              "      <th>Out</th>\n",
              "      <th>Direction</th>\n",
              "      <th>CallDate</th>\n",
              "      <th>CallTime</th>\n",
              "      <th>DOW</th>\n",
              "      <th>Duration</th>\n",
              "      <th>TowerID</th>\n",
              "      <th>TowerLat</th>\n",
              "      <th>TowerLon</th>\n",
              "    </tr>\n",
              "  </thead>\n",
              "  <tbody>\n",
              "    <tr>\n",
              "      <th>0</th>\n",
              "      <td>4638472273</td>\n",
              "      <td>2666307251</td>\n",
              "      <td>Incoming</td>\n",
              "      <td>2010-12-25</td>\n",
              "      <td>07:16:24.736813</td>\n",
              "      <td>Sat</td>\n",
              "      <td>0:02:41.741499</td>\n",
              "      <td>0db53dd3-eb9c-4344-abc5-c2d74ebc3eec</td>\n",
              "      <td>32.731611</td>\n",
              "      <td>-96.709417</td>\n",
              "    </tr>\n",
              "    <tr>\n",
              "      <th>1</th>\n",
              "      <td>4638472273</td>\n",
              "      <td>1755442610</td>\n",
              "      <td>Incoming</td>\n",
              "      <td>2010-12-25</td>\n",
              "      <td>21:18:30.053710</td>\n",
              "      <td>Sat</td>\n",
              "      <td>0:02:47.108750</td>\n",
              "      <td>aeaf8b43-8034-44fe-833d-31854a75acbf</td>\n",
              "      <td>32.731722</td>\n",
              "      <td>-96.709500</td>\n",
              "    </tr>\n",
              "    <tr>\n",
              "      <th>2</th>\n",
              "      <td>4638472273</td>\n",
              "      <td>5481755331</td>\n",
              "      <td>Incoming</td>\n",
              "      <td>2010-12-25</td>\n",
              "      <td>14:52:42.878016</td>\n",
              "      <td>Sat</td>\n",
              "      <td>0:04:35.356341</td>\n",
              "      <td>fadaa83f-6001-45fd-aa4a-17d6c6b7ec00</td>\n",
              "      <td>32.899944</td>\n",
              "      <td>-96.910389</td>\n",
              "    </tr>\n",
              "    <tr>\n",
              "      <th>3</th>\n",
              "      <td>4638472273</td>\n",
              "      <td>1755442610</td>\n",
              "      <td>Incoming</td>\n",
              "      <td>2010-12-25</td>\n",
              "      <td>16:02:09.001913</td>\n",
              "      <td>Sat</td>\n",
              "      <td>0:02:23.498499</td>\n",
              "      <td>fadaa83f-6001-45fd-aa4a-17d6c6b7ec00</td>\n",
              "      <td>32.899944</td>\n",
              "      <td>-96.910389</td>\n",
              "    </tr>\n",
              "    <tr>\n",
              "      <th>4</th>\n",
              "      <td>4638472273</td>\n",
              "      <td>2145623768</td>\n",
              "      <td>Incoming</td>\n",
              "      <td>2010-12-25</td>\n",
              "      <td>15:28:35.028554</td>\n",
              "      <td>Sat</td>\n",
              "      <td>0:03:54.692497</td>\n",
              "      <td>95d7920d-c3cd-4d20-a568-9a55800dc807</td>\n",
              "      <td>32.899944</td>\n",
              "      <td>-96.910389</td>\n",
              "    </tr>\n",
              "    <tr>\n",
              "      <th>...</th>\n",
              "      <td>...</td>\n",
              "      <td>...</td>\n",
              "      <td>...</td>\n",
              "      <td>...</td>\n",
              "      <td>...</td>\n",
              "      <td>...</td>\n",
              "      <td>...</td>\n",
              "      <td>...</td>\n",
              "      <td>...</td>\n",
              "      <td>...</td>\n",
              "    </tr>\n",
              "    <tr>\n",
              "      <th>53183</th>\n",
              "      <td>8549533077</td>\n",
              "      <td>491169353</td>\n",
              "      <td>Missed</td>\n",
              "      <td>2013-02-26</td>\n",
              "      <td>19:11:18.125445</td>\n",
              "      <td>Tue</td>\n",
              "      <td>0:04:05.656331</td>\n",
              "      <td>6c1f0271-70e2-4ea6-bb8b-23b3b0b06117</td>\n",
              "      <td>32.772361</td>\n",
              "      <td>-96.777278</td>\n",
              "    </tr>\n",
              "    <tr>\n",
              "      <th>53184</th>\n",
              "      <td>8549533077</td>\n",
              "      <td>2362231379</td>\n",
              "      <td>Incoming</td>\n",
              "      <td>2013-02-26</td>\n",
              "      <td>18:01:56.075434</td>\n",
              "      <td>Tue</td>\n",
              "      <td>0:01:53.848597</td>\n",
              "      <td>a11a02cf-73c6-479c-8cf1-8fbee7917716</td>\n",
              "      <td>32.786556</td>\n",
              "      <td>-96.791250</td>\n",
              "    </tr>\n",
              "    <tr>\n",
              "      <th>53185</th>\n",
              "      <td>8549533077</td>\n",
              "      <td>186272563</td>\n",
              "      <td>Incoming</td>\n",
              "      <td>2013-02-26</td>\n",
              "      <td>16:08:57.602134</td>\n",
              "      <td>Tue</td>\n",
              "      <td>0:01:57.577549</td>\n",
              "      <td>06fe2702-1f88-4dfd-90d6-22c2d3227855</td>\n",
              "      <td>32.985083</td>\n",
              "      <td>-96.802556</td>\n",
              "    </tr>\n",
              "    <tr>\n",
              "      <th>53186</th>\n",
              "      <td>8549533077</td>\n",
              "      <td>2288700880</td>\n",
              "      <td>Incoming</td>\n",
              "      <td>2013-02-26</td>\n",
              "      <td>08:01:39.721347</td>\n",
              "      <td>Tue</td>\n",
              "      <td>0:01:39.690498</td>\n",
              "      <td>269b1e26-49c4-4308-8879-8f2d37528c8a</td>\n",
              "      <td>32.985083</td>\n",
              "      <td>-96.802528</td>\n",
              "    </tr>\n",
              "    <tr>\n",
              "      <th>53187</th>\n",
              "      <td>8549533077</td>\n",
              "      <td>491169353</td>\n",
              "      <td>Incoming</td>\n",
              "      <td>2013-02-26</td>\n",
              "      <td>10:47:00.637845</td>\n",
              "      <td>Tue</td>\n",
              "      <td>0:03:42.595246</td>\n",
              "      <td>269b1e26-49c4-4308-8879-8f2d37528c8a</td>\n",
              "      <td>32.985083</td>\n",
              "      <td>-96.802528</td>\n",
              "    </tr>\n",
              "  </tbody>\n",
              "</table>\n",
              "<p>53188 rows × 10 columns</p>\n",
              "</div>"
            ],
            "text/plain": [
              "               In         Out Direction    CallDate         CallTime  DOW  \\\n",
              "0      4638472273  2666307251  Incoming  2010-12-25  07:16:24.736813  Sat   \n",
              "1      4638472273  1755442610  Incoming  2010-12-25  21:18:30.053710  Sat   \n",
              "2      4638472273  5481755331  Incoming  2010-12-25  14:52:42.878016  Sat   \n",
              "3      4638472273  1755442610  Incoming  2010-12-25  16:02:09.001913  Sat   \n",
              "4      4638472273  2145623768  Incoming  2010-12-25  15:28:35.028554  Sat   \n",
              "...           ...         ...       ...         ...              ...  ...   \n",
              "53183  8549533077   491169353    Missed  2013-02-26  19:11:18.125445  Tue   \n",
              "53184  8549533077  2362231379  Incoming  2013-02-26  18:01:56.075434  Tue   \n",
              "53185  8549533077   186272563  Incoming  2013-02-26  16:08:57.602134  Tue   \n",
              "53186  8549533077  2288700880  Incoming  2013-02-26  08:01:39.721347  Tue   \n",
              "53187  8549533077   491169353  Incoming  2013-02-26  10:47:00.637845  Tue   \n",
              "\n",
              "             Duration                               TowerID   TowerLat  \\\n",
              "0      0:02:41.741499  0db53dd3-eb9c-4344-abc5-c2d74ebc3eec  32.731611   \n",
              "1      0:02:47.108750  aeaf8b43-8034-44fe-833d-31854a75acbf  32.731722   \n",
              "2      0:04:35.356341  fadaa83f-6001-45fd-aa4a-17d6c6b7ec00  32.899944   \n",
              "3      0:02:23.498499  fadaa83f-6001-45fd-aa4a-17d6c6b7ec00  32.899944   \n",
              "4      0:03:54.692497  95d7920d-c3cd-4d20-a568-9a55800dc807  32.899944   \n",
              "...               ...                                   ...        ...   \n",
              "53183  0:04:05.656331  6c1f0271-70e2-4ea6-bb8b-23b3b0b06117  32.772361   \n",
              "53184  0:01:53.848597  a11a02cf-73c6-479c-8cf1-8fbee7917716  32.786556   \n",
              "53185  0:01:57.577549  06fe2702-1f88-4dfd-90d6-22c2d3227855  32.985083   \n",
              "53186  0:01:39.690498  269b1e26-49c4-4308-8879-8f2d37528c8a  32.985083   \n",
              "53187  0:03:42.595246  269b1e26-49c4-4308-8879-8f2d37528c8a  32.985083   \n",
              "\n",
              "        TowerLon  \n",
              "0     -96.709417  \n",
              "1     -96.709500  \n",
              "2     -96.910389  \n",
              "3     -96.910389  \n",
              "4     -96.910389  \n",
              "...          ...  \n",
              "53183 -96.777278  \n",
              "53184 -96.791250  \n",
              "53185 -96.802556  \n",
              "53186 -96.802528  \n",
              "53187 -96.802528  \n",
              "\n",
              "[53188 rows x 10 columns]"
            ]
          },
          "execution_count": 22,
          "metadata": {},
          "output_type": "execute_result"
        }
      ],
      "source": [
        "data = pd.read_csv('D:/Data Science Funix/ASM/DSP303x_ASM3/CDR.csv')\n",
        "data"
      ]
    },
    {
      "cell_type": "code",
      "execution_count": null,
      "metadata": {
        "id": "z4qennHzBKfB"
      },
      "outputs": [],
      "source": [
        "data[\"CallDate\"]=pd.to_datetime(data[\"CallDate\"])"
      ]
    },
    {
      "cell_type": "code",
      "execution_count": null,
      "metadata": {
        "id": "X5EGTM8VD685"
      },
      "outputs": [],
      "source": [
        "data[\"CallTime\"]=pd.to_timedelta(data[\"CallTime\"]) "
      ]
    },
    {
      "cell_type": "code",
      "execution_count": null,
      "metadata": {
        "colab": {
          "base_uri": "https://localhost:8080/"
        },
        "id": "PGvFf1YvEFxI",
        "outputId": "c7a152f8-fd3c-4fee-90cc-321d467522cc"
      },
      "outputs": [
        {
          "data": {
            "text/plain": [
              "In                     int64\n",
              "Out                    int64\n",
              "Direction             object\n",
              "CallDate      datetime64[ns]\n",
              "CallTime     timedelta64[ns]\n",
              "DOW                   object\n",
              "Duration              object\n",
              "TowerID               object\n",
              "TowerLat             float64\n",
              "TowerLon             float64\n",
              "dtype: object"
            ]
          },
          "execution_count": 25,
          "metadata": {},
          "output_type": "execute_result"
        }
      ],
      "source": [
        "data.dtypes"
      ]
    },
    {
      "cell_type": "markdown",
      "metadata": {
        "id": "k0WtHbk9v9Fr"
      },
      "source": [
        "**2. Create a distinct list of `In` phone numbers (people) and store the values in a regular python list.**\n",
        "\n",
        "Make sure the numbers appear in your list in the same order they appear in your dataframe; but only keep a single copy of each number. [This link](https://docs.scipy.org/doc/numpy/reference/generated/numpy.ndarray.tolist.html) might also be helpful."
      ]
    },
    {
      "cell_type": "code",
      "execution_count": null,
      "metadata": {
        "colab": {
          "base_uri": "https://localhost:8080/"
        },
        "id": "_XJ8wBjDv9F2",
        "outputId": "dc5e0bed-27ec-43e0-f70a-5fabfe16a9bf"
      },
      "outputs": [
        {
          "data": {
            "text/plain": [
              "array([4638472273, 1559410755, 4931532174, 2419930464, 1884182865,\n",
              "       3688089071, 4555003213, 2068627935, 2894365987, 8549533077],\n",
              "      dtype=int64)"
            ]
          },
          "execution_count": 26,
          "metadata": {},
          "output_type": "execute_result"
        }
      ],
      "source": [
        "#TO DO:\n",
        "unique_phone_no=data[\"In\"].unique()\n",
        "unique_phone_no"
      ]
    },
    {
      "cell_type": "markdown",
      "metadata": {
        "id": "jnHV9oQ1v9GU"
      },
      "source": [
        "**3. Create a slice named `user1` that filters to _only_ include dataset records where the `In` feature (user's phone number) is equal to the first number on your unique list above, i.e., the very first number in the dataset:**"
      ]
    },
    {
      "cell_type": "code",
      "execution_count": null,
      "metadata": {
        "colab": {
          "base_uri": "https://localhost:8080/",
          "height": 641
        },
        "id": "a4jIG9o_v9Gb",
        "outputId": "24b28e83-2808-417b-9f61-b6d217ea17e9"
      },
      "outputs": [
        {
          "data": {
            "text/html": [
              "<div>\n",
              "<style scoped>\n",
              "    .dataframe tbody tr th:only-of-type {\n",
              "        vertical-align: middle;\n",
              "    }\n",
              "\n",
              "    .dataframe tbody tr th {\n",
              "        vertical-align: top;\n",
              "    }\n",
              "\n",
              "    .dataframe thead th {\n",
              "        text-align: right;\n",
              "    }\n",
              "</style>\n",
              "<table border=\"1\" class=\"dataframe\">\n",
              "  <thead>\n",
              "    <tr style=\"text-align: right;\">\n",
              "      <th></th>\n",
              "      <th>In</th>\n",
              "      <th>Out</th>\n",
              "      <th>Direction</th>\n",
              "      <th>CallDate</th>\n",
              "      <th>CallTime</th>\n",
              "      <th>DOW</th>\n",
              "      <th>Duration</th>\n",
              "      <th>TowerID</th>\n",
              "      <th>TowerLat</th>\n",
              "      <th>TowerLon</th>\n",
              "    </tr>\n",
              "  </thead>\n",
              "  <tbody>\n",
              "    <tr>\n",
              "      <th>0</th>\n",
              "      <td>4638472273</td>\n",
              "      <td>2666307251</td>\n",
              "      <td>Incoming</td>\n",
              "      <td>2010-12-25</td>\n",
              "      <td>0 days 07:16:24.736813</td>\n",
              "      <td>Sat</td>\n",
              "      <td>0:02:41.741499</td>\n",
              "      <td>0db53dd3-eb9c-4344-abc5-c2d74ebc3eec</td>\n",
              "      <td>32.731611</td>\n",
              "      <td>-96.709417</td>\n",
              "    </tr>\n",
              "    <tr>\n",
              "      <th>1</th>\n",
              "      <td>4638472273</td>\n",
              "      <td>1755442610</td>\n",
              "      <td>Incoming</td>\n",
              "      <td>2010-12-25</td>\n",
              "      <td>0 days 21:18:30.053710</td>\n",
              "      <td>Sat</td>\n",
              "      <td>0:02:47.108750</td>\n",
              "      <td>aeaf8b43-8034-44fe-833d-31854a75acbf</td>\n",
              "      <td>32.731722</td>\n",
              "      <td>-96.709500</td>\n",
              "    </tr>\n",
              "    <tr>\n",
              "      <th>2</th>\n",
              "      <td>4638472273</td>\n",
              "      <td>5481755331</td>\n",
              "      <td>Incoming</td>\n",
              "      <td>2010-12-25</td>\n",
              "      <td>0 days 14:52:42.878016</td>\n",
              "      <td>Sat</td>\n",
              "      <td>0:04:35.356341</td>\n",
              "      <td>fadaa83f-6001-45fd-aa4a-17d6c6b7ec00</td>\n",
              "      <td>32.899944</td>\n",
              "      <td>-96.910389</td>\n",
              "    </tr>\n",
              "    <tr>\n",
              "      <th>3</th>\n",
              "      <td>4638472273</td>\n",
              "      <td>1755442610</td>\n",
              "      <td>Incoming</td>\n",
              "      <td>2010-12-25</td>\n",
              "      <td>0 days 16:02:09.001913</td>\n",
              "      <td>Sat</td>\n",
              "      <td>0:02:23.498499</td>\n",
              "      <td>fadaa83f-6001-45fd-aa4a-17d6c6b7ec00</td>\n",
              "      <td>32.899944</td>\n",
              "      <td>-96.910389</td>\n",
              "    </tr>\n",
              "    <tr>\n",
              "      <th>4</th>\n",
              "      <td>4638472273</td>\n",
              "      <td>2145623768</td>\n",
              "      <td>Incoming</td>\n",
              "      <td>2010-12-25</td>\n",
              "      <td>0 days 15:28:35.028554</td>\n",
              "      <td>Sat</td>\n",
              "      <td>0:03:54.692497</td>\n",
              "      <td>95d7920d-c3cd-4d20-a568-9a55800dc807</td>\n",
              "      <td>32.899944</td>\n",
              "      <td>-96.910389</td>\n",
              "    </tr>\n",
              "    <tr>\n",
              "      <th>...</th>\n",
              "      <td>...</td>\n",
              "      <td>...</td>\n",
              "      <td>...</td>\n",
              "      <td>...</td>\n",
              "      <td>...</td>\n",
              "      <td>...</td>\n",
              "      <td>...</td>\n",
              "      <td>...</td>\n",
              "      <td>...</td>\n",
              "      <td>...</td>\n",
              "    </tr>\n",
              "    <tr>\n",
              "      <th>53140</th>\n",
              "      <td>4638472273</td>\n",
              "      <td>2666307251</td>\n",
              "      <td>Missed</td>\n",
              "      <td>2013-02-26</td>\n",
              "      <td>0 days 11:26:01.888502</td>\n",
              "      <td>Tue</td>\n",
              "      <td>0:03:08.177065</td>\n",
              "      <td>0296279d-18c3-4709-853e-3e20496ce444</td>\n",
              "      <td>32.899944</td>\n",
              "      <td>-96.910389</td>\n",
              "    </tr>\n",
              "    <tr>\n",
              "      <th>53141</th>\n",
              "      <td>4638472273</td>\n",
              "      <td>2145623768</td>\n",
              "      <td>Missed</td>\n",
              "      <td>2013-02-26</td>\n",
              "      <td>0 days 17:32:18.776276</td>\n",
              "      <td>Tue</td>\n",
              "      <td>0:02:30.823459</td>\n",
              "      <td>78512965-e30b-4734-ae92-47b910fe3d7f</td>\n",
              "      <td>32.899944</td>\n",
              "      <td>-96.910389</td>\n",
              "    </tr>\n",
              "    <tr>\n",
              "      <th>53142</th>\n",
              "      <td>4638472273</td>\n",
              "      <td>4551601645</td>\n",
              "      <td>Incoming</td>\n",
              "      <td>2013-02-26</td>\n",
              "      <td>0 days 19:12:44.730636</td>\n",
              "      <td>Tue</td>\n",
              "      <td>0:03:42.954201</td>\n",
              "      <td>8fb02570-fb3f-4381-be74-3e1accf87ec5</td>\n",
              "      <td>32.750556</td>\n",
              "      <td>-96.694722</td>\n",
              "    </tr>\n",
              "    <tr>\n",
              "      <th>53143</th>\n",
              "      <td>4638472273</td>\n",
              "      <td>7721472178</td>\n",
              "      <td>Incoming</td>\n",
              "      <td>2013-02-26</td>\n",
              "      <td>0 days 07:50:41.435642</td>\n",
              "      <td>Tue</td>\n",
              "      <td>0:04:04.460385</td>\n",
              "      <td>e78826ad-45b0-45d4-90ec-4776d73f1d8e</td>\n",
              "      <td>32.864167</td>\n",
              "      <td>-96.836944</td>\n",
              "    </tr>\n",
              "    <tr>\n",
              "      <th>53144</th>\n",
              "      <td>4638472273</td>\n",
              "      <td>6150928001</td>\n",
              "      <td>Incoming</td>\n",
              "      <td>2013-02-26</td>\n",
              "      <td>0 days 07:49:56.273334</td>\n",
              "      <td>Tue</td>\n",
              "      <td>0:01:35.016406</td>\n",
              "      <td>b0320962-e409-487a-a435-e33ba8123768</td>\n",
              "      <td>32.881111</td>\n",
              "      <td>-96.856389</td>\n",
              "    </tr>\n",
              "  </tbody>\n",
              "</table>\n",
              "<p>3648 rows × 10 columns</p>\n",
              "</div>"
            ],
            "text/plain": [
              "               In         Out Direction   CallDate               CallTime  \\\n",
              "0      4638472273  2666307251  Incoming 2010-12-25 0 days 07:16:24.736813   \n",
              "1      4638472273  1755442610  Incoming 2010-12-25 0 days 21:18:30.053710   \n",
              "2      4638472273  5481755331  Incoming 2010-12-25 0 days 14:52:42.878016   \n",
              "3      4638472273  1755442610  Incoming 2010-12-25 0 days 16:02:09.001913   \n",
              "4      4638472273  2145623768  Incoming 2010-12-25 0 days 15:28:35.028554   \n",
              "...           ...         ...       ...        ...                    ...   \n",
              "53140  4638472273  2666307251    Missed 2013-02-26 0 days 11:26:01.888502   \n",
              "53141  4638472273  2145623768    Missed 2013-02-26 0 days 17:32:18.776276   \n",
              "53142  4638472273  4551601645  Incoming 2013-02-26 0 days 19:12:44.730636   \n",
              "53143  4638472273  7721472178  Incoming 2013-02-26 0 days 07:50:41.435642   \n",
              "53144  4638472273  6150928001  Incoming 2013-02-26 0 days 07:49:56.273334   \n",
              "\n",
              "       DOW        Duration                               TowerID   TowerLat  \\\n",
              "0      Sat  0:02:41.741499  0db53dd3-eb9c-4344-abc5-c2d74ebc3eec  32.731611   \n",
              "1      Sat  0:02:47.108750  aeaf8b43-8034-44fe-833d-31854a75acbf  32.731722   \n",
              "2      Sat  0:04:35.356341  fadaa83f-6001-45fd-aa4a-17d6c6b7ec00  32.899944   \n",
              "3      Sat  0:02:23.498499  fadaa83f-6001-45fd-aa4a-17d6c6b7ec00  32.899944   \n",
              "4      Sat  0:03:54.692497  95d7920d-c3cd-4d20-a568-9a55800dc807  32.899944   \n",
              "...    ...             ...                                   ...        ...   \n",
              "53140  Tue  0:03:08.177065  0296279d-18c3-4709-853e-3e20496ce444  32.899944   \n",
              "53141  Tue  0:02:30.823459  78512965-e30b-4734-ae92-47b910fe3d7f  32.899944   \n",
              "53142  Tue  0:03:42.954201  8fb02570-fb3f-4381-be74-3e1accf87ec5  32.750556   \n",
              "53143  Tue  0:04:04.460385  e78826ad-45b0-45d4-90ec-4776d73f1d8e  32.864167   \n",
              "53144  Tue  0:01:35.016406  b0320962-e409-487a-a435-e33ba8123768  32.881111   \n",
              "\n",
              "        TowerLon  \n",
              "0     -96.709417  \n",
              "1     -96.709500  \n",
              "2     -96.910389  \n",
              "3     -96.910389  \n",
              "4     -96.910389  \n",
              "...          ...  \n",
              "53140 -96.910389  \n",
              "53141 -96.910389  \n",
              "53142 -96.694722  \n",
              "53143 -96.836944  \n",
              "53144 -96.856389  \n",
              "\n",
              "[3648 rows x 10 columns]"
            ]
          },
          "execution_count": 27,
          "metadata": {},
          "output_type": "execute_result"
        }
      ],
      "source": [
        "#TO DO:\n",
        "user1=data[data['In'] ==unique_phone_no[0]]\n",
        "user1"
      ]
    },
    {
      "cell_type": "markdown",
      "metadata": {
        "id": "Hif0wj5bv9Gj"
      },
      "source": [
        "**4. Let's go ahead and plot all the call locations for user 1 in all time:**\n"
      ]
    },
    {
      "cell_type": "code",
      "execution_count": null,
      "metadata": {
        "colab": {
          "base_uri": "https://localhost:8080/",
          "height": 299
        },
        "id": "5oKPIaV0v9Gm",
        "outputId": "a1fd5311-1064-4240-ba05-07ec958cd19d"
      },
      "outputs": [
        {
          "data": {
            "text/plain": [
              "<AxesSubplot:xlabel='TowerLon', ylabel='TowerLat'>"
            ]
          },
          "execution_count": 28,
          "metadata": {},
          "output_type": "execute_result"
        },
        {
          "data": {
            "image/png": "[encoded data removed]",
            "text/plain": [
              "<Figure size 432x288 with 1 Axes>"
            ]
          },
          "metadata": {},
          "output_type": "display_data"
        }
      ],
      "source": [
        "#TO DO:\n",
        "import seaborn as sns\n",
        "sns.scatterplot(data=user1, x=\"TowerLon\", y=\"TowerLat\")"
      ]
    },
    {
      "cell_type": "markdown",
      "metadata": {
        "id": "in-x3fZIv9G2"
      },
      "source": [
        "INFO: The locations map above should be too \"busy\" to really wrap your head around. This is where domain expertise comes into play. Your intuition can direct you by knowing people are likely to behave differently on weekends vs on weekdays:\n",
        "\n",
        "#### On Weekends\n",
        "1. People probably don't go into work\n",
        "1. They probably sleep in late on Saturday\n",
        "1. They probably run a bunch of random errands, since they couldn't during the week\n",
        "1. They should be home, at least during the very late hours, e.g. 1-4 AM\n",
        "\n",
        "#### On Weekdays\n",
        "1. People probably are at work during normal working hours\n",
        "1. They probably are at home in the early morning and during the late night\n",
        "1. They probably spend time commuting between work and home everyday"
      ]
    },
    {
      "cell_type": "markdown",
      "metadata": {
        "id": "f8luIW_Pv9G4"
      },
      "source": [
        "**5. Add more filters to the `user1` slice you created. Add bitwise logic so that you only examine records that _came in_ on weekends (sat/sun):**"
      ]
    },
    {
      "cell_type": "code",
      "execution_count": null,
      "metadata": {
        "colab": {
          "base_uri": "https://localhost:8080/",
          "height": 337
        },
        "id": "go9hxI31v9G8",
        "outputId": "f20772d2-2ece-459d-f4d0-953c25db28c8"
      },
      "outputs": [
        {
          "data": {
            "text/html": [
              "<div>\n",
              "<style scoped>\n",
              "    .dataframe tbody tr th:only-of-type {\n",
              "        vertical-align: middle;\n",
              "    }\n",
              "\n",
              "    .dataframe tbody tr th {\n",
              "        vertical-align: top;\n",
              "    }\n",
              "\n",
              "    .dataframe thead th {\n",
              "        text-align: right;\n",
              "    }\n",
              "</style>\n",
              "<table border=\"1\" class=\"dataframe\">\n",
              "  <thead>\n",
              "    <tr style=\"text-align: right;\">\n",
              "      <th></th>\n",
              "      <th>In</th>\n",
              "      <th>Out</th>\n",
              "      <th>Direction</th>\n",
              "      <th>CallDate</th>\n",
              "      <th>CallTime</th>\n",
              "      <th>DOW</th>\n",
              "      <th>Duration</th>\n",
              "      <th>TowerID</th>\n",
              "      <th>TowerLat</th>\n",
              "      <th>TowerLon</th>\n",
              "    </tr>\n",
              "  </thead>\n",
              "  <tbody>\n",
              "    <tr>\n",
              "      <th>0</th>\n",
              "      <td>4638472273</td>\n",
              "      <td>2666307251</td>\n",
              "      <td>Incoming</td>\n",
              "      <td>2010-12-25</td>\n",
              "      <td>0 days 07:16:24.736813</td>\n",
              "      <td>Sat</td>\n",
              "      <td>0:02:41.741499</td>\n",
              "      <td>0db53dd3-eb9c-4344-abc5-c2d74ebc3eec</td>\n",
              "      <td>32.731611</td>\n",
              "      <td>-96.709417</td>\n",
              "    </tr>\n",
              "    <tr>\n",
              "      <th>1</th>\n",
              "      <td>4638472273</td>\n",
              "      <td>1755442610</td>\n",
              "      <td>Incoming</td>\n",
              "      <td>2010-12-25</td>\n",
              "      <td>0 days 21:18:30.053710</td>\n",
              "      <td>Sat</td>\n",
              "      <td>0:02:47.108750</td>\n",
              "      <td>aeaf8b43-8034-44fe-833d-31854a75acbf</td>\n",
              "      <td>32.731722</td>\n",
              "      <td>-96.709500</td>\n",
              "    </tr>\n",
              "    <tr>\n",
              "      <th>2</th>\n",
              "      <td>4638472273</td>\n",
              "      <td>5481755331</td>\n",
              "      <td>Incoming</td>\n",
              "      <td>2010-12-25</td>\n",
              "      <td>0 days 14:52:42.878016</td>\n",
              "      <td>Sat</td>\n",
              "      <td>0:04:35.356341</td>\n",
              "      <td>fadaa83f-6001-45fd-aa4a-17d6c6b7ec00</td>\n",
              "      <td>32.899944</td>\n",
              "      <td>-96.910389</td>\n",
              "    </tr>\n",
              "    <tr>\n",
              "      <th>3</th>\n",
              "      <td>4638472273</td>\n",
              "      <td>1755442610</td>\n",
              "      <td>Incoming</td>\n",
              "      <td>2010-12-25</td>\n",
              "      <td>0 days 16:02:09.001913</td>\n",
              "      <td>Sat</td>\n",
              "      <td>0:02:23.498499</td>\n",
              "      <td>fadaa83f-6001-45fd-aa4a-17d6c6b7ec00</td>\n",
              "      <td>32.899944</td>\n",
              "      <td>-96.910389</td>\n",
              "    </tr>\n",
              "    <tr>\n",
              "      <th>4</th>\n",
              "      <td>4638472273</td>\n",
              "      <td>2145623768</td>\n",
              "      <td>Incoming</td>\n",
              "      <td>2010-12-25</td>\n",
              "      <td>0 days 15:28:35.028554</td>\n",
              "      <td>Sat</td>\n",
              "      <td>0:03:54.692497</td>\n",
              "      <td>95d7920d-c3cd-4d20-a568-9a55800dc807</td>\n",
              "      <td>32.899944</td>\n",
              "      <td>-96.910389</td>\n",
              "    </tr>\n",
              "    <tr>\n",
              "      <th>...</th>\n",
              "      <td>...</td>\n",
              "      <td>...</td>\n",
              "      <td>...</td>\n",
              "      <td>...</td>\n",
              "      <td>...</td>\n",
              "      <td>...</td>\n",
              "      <td>...</td>\n",
              "      <td>...</td>\n",
              "      <td>...</td>\n",
              "      <td>...</td>\n",
              "    </tr>\n",
              "    <tr>\n",
              "      <th>52964</th>\n",
              "      <td>4638472273</td>\n",
              "      <td>6022767590</td>\n",
              "      <td>Incoming</td>\n",
              "      <td>2013-02-23</td>\n",
              "      <td>0 days 16:12:12.701600</td>\n",
              "      <td>Sat</td>\n",
              "      <td>0:02:21.278138</td>\n",
              "      <td>fadaa83f-6001-45fd-aa4a-17d6c6b7ec00</td>\n",
              "      <td>32.899944</td>\n",
              "      <td>-96.910389</td>\n",
              "    </tr>\n",
              "    <tr>\n",
              "      <th>52965</th>\n",
              "      <td>4638472273</td>\n",
              "      <td>5621270003</td>\n",
              "      <td>Incoming</td>\n",
              "      <td>2013-02-23</td>\n",
              "      <td>0 days 09:11:21.606945</td>\n",
              "      <td>Sat</td>\n",
              "      <td>0:03:19.757526</td>\n",
              "      <td>fadaa83f-6001-45fd-aa4a-17d6c6b7ec00</td>\n",
              "      <td>32.899944</td>\n",
              "      <td>-96.910389</td>\n",
              "    </tr>\n",
              "    <tr>\n",
              "      <th>53022</th>\n",
              "      <td>4638472273</td>\n",
              "      <td>7756914135</td>\n",
              "      <td>Incoming</td>\n",
              "      <td>2013-02-24</td>\n",
              "      <td>0 days 16:49:42.830258</td>\n",
              "      <td>Sun</td>\n",
              "      <td>0:02:19.285474</td>\n",
              "      <td>fadaa83f-6001-45fd-aa4a-17d6c6b7ec00</td>\n",
              "      <td>32.899944</td>\n",
              "      <td>-96.910389</td>\n",
              "    </tr>\n",
              "    <tr>\n",
              "      <th>53023</th>\n",
              "      <td>4638472273</td>\n",
              "      <td>7721472178</td>\n",
              "      <td>Incoming</td>\n",
              "      <td>2013-02-24</td>\n",
              "      <td>0 days 10:32:55.146952</td>\n",
              "      <td>Sun</td>\n",
              "      <td>0:00:04.908620</td>\n",
              "      <td>fadaa83f-6001-45fd-aa4a-17d6c6b7ec00</td>\n",
              "      <td>32.899944</td>\n",
              "      <td>-96.910389</td>\n",
              "    </tr>\n",
              "    <tr>\n",
              "      <th>53024</th>\n",
              "      <td>4638472273</td>\n",
              "      <td>1755442610</td>\n",
              "      <td>Missed</td>\n",
              "      <td>2013-02-24</td>\n",
              "      <td>0 days 21:04:47.567403</td>\n",
              "      <td>Sun</td>\n",
              "      <td>0:02:26.051783</td>\n",
              "      <td>bcec0121-164d-406c-8c04-d12870893992</td>\n",
              "      <td>32.731611</td>\n",
              "      <td>-96.709417</td>\n",
              "    </tr>\n",
              "  </tbody>\n",
              "</table>\n",
              "<p>1141 rows × 10 columns</p>\n",
              "</div>"
            ],
            "text/plain": [
              "               In         Out Direction   CallDate               CallTime  \\\n",
              "0      4638472273  2666307251  Incoming 2010-12-25 0 days 07:16:24.736813   \n",
              "1      4638472273  1755442610  Incoming 2010-12-25 0 days 21:18:30.053710   \n",
              "2      4638472273  5481755331  Incoming 2010-12-25 0 days 14:52:42.878016   \n",
              "3      4638472273  1755442610  Incoming 2010-12-25 0 days 16:02:09.001913   \n",
              "4      4638472273  2145623768  Incoming 2010-12-25 0 days 15:28:35.028554   \n",
              "...           ...         ...       ...        ...                    ...   \n",
              "52964  4638472273  6022767590  Incoming 2013-02-23 0 days 16:12:12.701600   \n",
              "52965  4638472273  5621270003  Incoming 2013-02-23 0 days 09:11:21.606945   \n",
              "53022  4638472273  7756914135  Incoming 2013-02-24 0 days 16:49:42.830258   \n",
              "53023  4638472273  7721472178  Incoming 2013-02-24 0 days 10:32:55.146952   \n",
              "53024  4638472273  1755442610    Missed 2013-02-24 0 days 21:04:47.567403   \n",
              "\n",
              "       DOW        Duration                               TowerID   TowerLat  \\\n",
              "0      Sat  0:02:41.741499  0db53dd3-eb9c-4344-abc5-c2d74ebc3eec  32.731611   \n",
              "1      Sat  0:02:47.108750  aeaf8b43-8034-44fe-833d-31854a75acbf  32.731722   \n",
              "2      Sat  0:04:35.356341  fadaa83f-6001-45fd-aa4a-17d6c6b7ec00  32.899944   \n",
              "3      Sat  0:02:23.498499  fadaa83f-6001-45fd-aa4a-17d6c6b7ec00  32.899944   \n",
              "4      Sat  0:03:54.692497  95d7920d-c3cd-4d20-a568-9a55800dc807  32.899944   \n",
              "...    ...             ...                                   ...        ...   \n",
              "52964  Sat  0:02:21.278138  fadaa83f-6001-45fd-aa4a-17d6c6b7ec00  32.899944   \n",
              "52965  Sat  0:03:19.757526  fadaa83f-6001-45fd-aa4a-17d6c6b7ec00  32.899944   \n",
              "53022  Sun  0:02:19.285474  fadaa83f-6001-45fd-aa4a-17d6c6b7ec00  32.899944   \n",
              "53023  Sun  0:00:04.908620  fadaa83f-6001-45fd-aa4a-17d6c6b7ec00  32.899944   \n",
              "53024  Sun  0:02:26.051783  bcec0121-164d-406c-8c04-d12870893992  32.731611   \n",
              "\n",
              "        TowerLon  \n",
              "0     -96.709417  \n",
              "1     -96.709500  \n",
              "2     -96.910389  \n",
              "3     -96.910389  \n",
              "4     -96.910389  \n",
              "...          ...  \n",
              "52964 -96.910389  \n",
              "52965 -96.910389  \n",
              "53022 -96.910389  \n",
              "53023 -96.910389  \n",
              "53024 -96.709417  \n",
              "\n",
              "[1141 rows x 10 columns]"
            ]
          },
          "execution_count": 29,
          "metadata": {},
          "output_type": "execute_result"
        }
      ],
      "source": [
        "#TO DO:\n",
        "user1_weekends = user1[(user1['DOW'] == 'Sat') | (user1['DOW'] == 'Sun')].copy()\n",
        "user1_weekends"
      ]
    },
    {
      "cell_type": "markdown",
      "metadata": {
        "collapsed": true,
        "id": "CucWruIbv9HD"
      },
      "source": [
        "**6. Further filter `user1` down for calls that came in either before 6am OR after 10pm (22:00:00).**\n",
        "\n",
        "Even if you didn't convert your times from string objects to time deltas, you can still use `<` and `>` to compare the string times as long as you code them as [military time strings](https://en.wikipedia.org/wiki/24-hour_clock), eg: \"06:00:00\", \"22:00:00\": \n",
        "\n",
        "You may also want to review the Data Manipulation section for this. Once you have your filtered slice, print out its length:"
      ]
    },
    {
      "cell_type": "code",
      "execution_count": null,
      "metadata": {
        "colab": {
          "base_uri": "https://localhost:8080/",
          "height": 337
        },
        "id": "Sk11PWsBv9HF",
        "outputId": "d3253455-785c-436c-eaec-90d141f5a8f6"
      },
      "outputs": [
        {
          "data": {
            "text/html": [
              "<div>\n",
              "<style scoped>\n",
              "    .dataframe tbody tr th:only-of-type {\n",
              "        vertical-align: middle;\n",
              "    }\n",
              "\n",
              "    .dataframe tbody tr th {\n",
              "        vertical-align: top;\n",
              "    }\n",
              "\n",
              "    .dataframe thead th {\n",
              "        text-align: right;\n",
              "    }\n",
              "</style>\n",
              "<table border=\"1\" class=\"dataframe\">\n",
              "  <thead>\n",
              "    <tr style=\"text-align: right;\">\n",
              "      <th></th>\n",
              "      <th>In</th>\n",
              "      <th>Out</th>\n",
              "      <th>Direction</th>\n",
              "      <th>CallDate</th>\n",
              "      <th>CallTime</th>\n",
              "      <th>DOW</th>\n",
              "      <th>Duration</th>\n",
              "      <th>TowerID</th>\n",
              "      <th>TowerLat</th>\n",
              "      <th>TowerLon</th>\n",
              "    </tr>\n",
              "  </thead>\n",
              "  <tbody>\n",
              "    <tr>\n",
              "      <th>940</th>\n",
              "      <td>4638472273</td>\n",
              "      <td>6150928001</td>\n",
              "      <td>Incoming</td>\n",
              "      <td>2011-01-08</td>\n",
              "      <td>0 days 22:22:33.693878</td>\n",
              "      <td>Sat</td>\n",
              "      <td>0:00:35.065912</td>\n",
              "      <td>26f7441e-e64b-4b9d-8c5a-0eb34f7e919f</td>\n",
              "      <td>32.731611</td>\n",
              "      <td>-96.709417</td>\n",
              "    </tr>\n",
              "    <tr>\n",
              "      <th>1875</th>\n",
              "      <td>4638472273</td>\n",
              "      <td>2145623768</td>\n",
              "      <td>Incoming</td>\n",
              "      <td>2011-01-22</td>\n",
              "      <td>0 days 22:21:27.466908</td>\n",
              "      <td>Sat</td>\n",
              "      <td>0:03:40.018320</td>\n",
              "      <td>2567c73b-3711-4a31-8683-9d12d56857d8</td>\n",
              "      <td>32.731611</td>\n",
              "      <td>-96.709417</td>\n",
              "    </tr>\n",
              "    <tr>\n",
              "      <th>6949</th>\n",
              "      <td>4638472273</td>\n",
              "      <td>5621270003</td>\n",
              "      <td>Missed</td>\n",
              "      <td>2011-04-09</td>\n",
              "      <td>0 days 22:59:23.206408</td>\n",
              "      <td>Sat</td>\n",
              "      <td>0:03:06.567364</td>\n",
              "      <td>2567c73b-3711-4a31-8683-9d12d56857d8</td>\n",
              "      <td>32.731611</td>\n",
              "      <td>-96.709417</td>\n",
              "    </tr>\n",
              "    <tr>\n",
              "      <th>7468</th>\n",
              "      <td>4638472273</td>\n",
              "      <td>7756914135</td>\n",
              "      <td>Incoming</td>\n",
              "      <td>2011-04-17</td>\n",
              "      <td>0 days 05:15:40.205917</td>\n",
              "      <td>Sun</td>\n",
              "      <td>0:02:09.984993</td>\n",
              "      <td>cd9f3b1a-2eb8-4cdb-86d1-5d4c2740b1dc</td>\n",
              "      <td>32.731722</td>\n",
              "      <td>-96.709500</td>\n",
              "    </tr>\n",
              "    <tr>\n",
              "      <th>9753</th>\n",
              "      <td>4638472273</td>\n",
              "      <td>7922223441</td>\n",
              "      <td>Incoming</td>\n",
              "      <td>2011-05-21</td>\n",
              "      <td>0 days 05:08:20.121145</td>\n",
              "      <td>Sat</td>\n",
              "      <td>0:01:30.059591</td>\n",
              "      <td>0db53dd3-eb9c-4344-abc5-c2d74ebc3eec</td>\n",
              "      <td>32.731611</td>\n",
              "      <td>-96.709417</td>\n",
              "    </tr>\n",
              "    <tr>\n",
              "      <th>13951</th>\n",
              "      <td>4638472273</td>\n",
              "      <td>7428841195</td>\n",
              "      <td>Missed</td>\n",
              "      <td>2011-07-23</td>\n",
              "      <td>0 days 22:56:02.014834</td>\n",
              "      <td>Sat</td>\n",
              "      <td>0:04:48.497077</td>\n",
              "      <td>26f7441e-e64b-4b9d-8c5a-0eb34f7e919f</td>\n",
              "      <td>32.731611</td>\n",
              "      <td>-96.709417</td>\n",
              "    </tr>\n",
              "    <tr>\n",
              "      <th>17515</th>\n",
              "      <td>4638472273</td>\n",
              "      <td>2666307251</td>\n",
              "      <td>Incoming</td>\n",
              "      <td>2011-09-11</td>\n",
              "      <td>0 days 05:44:15.432523</td>\n",
              "      <td>Sun</td>\n",
              "      <td>0:01:39.500414</td>\n",
              "      <td>bcec0121-164d-406c-8c04-d12870893992</td>\n",
              "      <td>32.731611</td>\n",
              "      <td>-96.709417</td>\n",
              "    </tr>\n",
              "    <tr>\n",
              "      <th>21638</th>\n",
              "      <td>4638472273</td>\n",
              "      <td>6150928001</td>\n",
              "      <td>Incoming</td>\n",
              "      <td>2011-11-13</td>\n",
              "      <td>0 days 05:10:41.954161</td>\n",
              "      <td>Sun</td>\n",
              "      <td>0:00:44.369613</td>\n",
              "      <td>f3f289f5-7d29-4d3f-9b9a-a0ceaca10a1d</td>\n",
              "      <td>32.750556</td>\n",
              "      <td>-96.694722</td>\n",
              "    </tr>\n",
              "    <tr>\n",
              "      <th>22045</th>\n",
              "      <td>4638472273</td>\n",
              "      <td>6022767590</td>\n",
              "      <td>Missed</td>\n",
              "      <td>2011-11-19</td>\n",
              "      <td>0 days 22:59:53.166951</td>\n",
              "      <td>Sat</td>\n",
              "      <td>0:00:05.795265</td>\n",
              "      <td>8ba7e0d7-eb6e-4828-9c70-c469954a627d</td>\n",
              "      <td>32.731611</td>\n",
              "      <td>-96.709417</td>\n",
              "    </tr>\n",
              "    <tr>\n",
              "      <th>22502</th>\n",
              "      <td>4638472273</td>\n",
              "      <td>5621270003</td>\n",
              "      <td>Incoming</td>\n",
              "      <td>2011-11-26</td>\n",
              "      <td>0 days 22:10:48.879076</td>\n",
              "      <td>Sat</td>\n",
              "      <td>0:03:07.592270</td>\n",
              "      <td>bcec0121-164d-406c-8c04-d12870893992</td>\n",
              "      <td>32.731611</td>\n",
              "      <td>-96.709417</td>\n",
              "    </tr>\n",
              "    <tr>\n",
              "      <th>27866</th>\n",
              "      <td>4638472273</td>\n",
              "      <td>2946222380</td>\n",
              "      <td>Missed</td>\n",
              "      <td>2012-02-12</td>\n",
              "      <td>0 days 22:48:34.319367</td>\n",
              "      <td>Sun</td>\n",
              "      <td>0:03:24.762196</td>\n",
              "      <td>1bfc786a-d4c2-464c-bc45-b9aad0c81216</td>\n",
              "      <td>32.731722</td>\n",
              "      <td>-96.709500</td>\n",
              "    </tr>\n",
              "    <tr>\n",
              "      <th>31975</th>\n",
              "      <td>4638472273</td>\n",
              "      <td>1755442610</td>\n",
              "      <td>Incoming</td>\n",
              "      <td>2012-04-14</td>\n",
              "      <td>0 days 05:42:32.004437</td>\n",
              "      <td>Sat</td>\n",
              "      <td>0:07:02.657988</td>\n",
              "      <td>d760c426-4d58-4f9c-9950-b68a3a54612c</td>\n",
              "      <td>32.731611</td>\n",
              "      <td>-96.709417</td>\n",
              "    </tr>\n",
              "    <tr>\n",
              "      <th>32605</th>\n",
              "      <td>4638472273</td>\n",
              "      <td>7756914135</td>\n",
              "      <td>Incoming</td>\n",
              "      <td>2012-04-22</td>\n",
              "      <td>0 days 22:44:21.992759</td>\n",
              "      <td>Sun</td>\n",
              "      <td>0:02:37.995933</td>\n",
              "      <td>0db53dd3-eb9c-4344-abc5-c2d74ebc3eec</td>\n",
              "      <td>32.731611</td>\n",
              "      <td>-96.709417</td>\n",
              "    </tr>\n",
              "    <tr>\n",
              "      <th>32606</th>\n",
              "      <td>4638472273</td>\n",
              "      <td>7922223441</td>\n",
              "      <td>Incoming</td>\n",
              "      <td>2012-04-22</td>\n",
              "      <td>0 days 05:02:55.678110</td>\n",
              "      <td>Sun</td>\n",
              "      <td>0:03:50.596153</td>\n",
              "      <td>8ba7e0d7-eb6e-4828-9c70-c469954a627d</td>\n",
              "      <td>32.731611</td>\n",
              "      <td>-96.709417</td>\n",
              "    </tr>\n",
              "    <tr>\n",
              "      <th>34427</th>\n",
              "      <td>4638472273</td>\n",
              "      <td>5621270003</td>\n",
              "      <td>Incoming</td>\n",
              "      <td>2012-05-19</td>\n",
              "      <td>0 days 05:42:45.405430</td>\n",
              "      <td>Sat</td>\n",
              "      <td>0:03:33.104834</td>\n",
              "      <td>2567c73b-3711-4a31-8683-9d12d56857d8</td>\n",
              "      <td>32.731611</td>\n",
              "      <td>-96.709417</td>\n",
              "    </tr>\n",
              "    <tr>\n",
              "      <th>38110</th>\n",
              "      <td>4638472273</td>\n",
              "      <td>2145623768</td>\n",
              "      <td>Incoming</td>\n",
              "      <td>2012-07-15</td>\n",
              "      <td>0 days 05:59:38.556670</td>\n",
              "      <td>Sun</td>\n",
              "      <td>0:04:29.583137</td>\n",
              "      <td>1bfc786a-d4c2-464c-bc45-b9aad0c81216</td>\n",
              "      <td>32.731722</td>\n",
              "      <td>-96.709500</td>\n",
              "    </tr>\n",
              "    <tr>\n",
              "      <th>38564</th>\n",
              "      <td>4638472273</td>\n",
              "      <td>5481755331</td>\n",
              "      <td>Incoming</td>\n",
              "      <td>2012-07-22</td>\n",
              "      <td>0 days 22:14:37.361635</td>\n",
              "      <td>Sun</td>\n",
              "      <td>0:01:44.568702</td>\n",
              "      <td>aeaf8b43-8034-44fe-833d-31854a75acbf</td>\n",
              "      <td>32.731722</td>\n",
              "      <td>-96.709500</td>\n",
              "    </tr>\n",
              "    <tr>\n",
              "      <th>39870</th>\n",
              "      <td>4638472273</td>\n",
              "      <td>8180005891</td>\n",
              "      <td>Incoming</td>\n",
              "      <td>2012-08-12</td>\n",
              "      <td>0 days 22:31:22.519784</td>\n",
              "      <td>Sun</td>\n",
              "      <td>0:00:12.541785</td>\n",
              "      <td>26f7441e-e64b-4b9d-8c5a-0eb34f7e919f</td>\n",
              "      <td>32.731611</td>\n",
              "      <td>-96.709417</td>\n",
              "    </tr>\n",
              "    <tr>\n",
              "      <th>40275</th>\n",
              "      <td>4638472273</td>\n",
              "      <td>7756914135</td>\n",
              "      <td>Missed</td>\n",
              "      <td>2012-08-19</td>\n",
              "      <td>0 days 05:33:32.103650</td>\n",
              "      <td>Sun</td>\n",
              "      <td>0:01:35.932559</td>\n",
              "      <td>aeaf8b43-8034-44fe-833d-31854a75acbf</td>\n",
              "      <td>32.731722</td>\n",
              "      <td>-96.709500</td>\n",
              "    </tr>\n",
              "    <tr>\n",
              "      <th>40789</th>\n",
              "      <td>4638472273</td>\n",
              "      <td>7428841195</td>\n",
              "      <td>Incoming</td>\n",
              "      <td>2012-08-26</td>\n",
              "      <td>0 days 22:23:58.453302</td>\n",
              "      <td>Sun</td>\n",
              "      <td>0:06:08.978230</td>\n",
              "      <td>bcec0121-164d-406c-8c04-d12870893992</td>\n",
              "      <td>32.731611</td>\n",
              "      <td>-96.709417</td>\n",
              "    </tr>\n",
              "    <tr>\n",
              "      <th>41757</th>\n",
              "      <td>4638472273</td>\n",
              "      <td>7922223441</td>\n",
              "      <td>Incoming</td>\n",
              "      <td>2012-09-08</td>\n",
              "      <td>0 days 22:45:53.008411</td>\n",
              "      <td>Sat</td>\n",
              "      <td>0:04:26.260140</td>\n",
              "      <td>2567c73b-3711-4a31-8683-9d12d56857d8</td>\n",
              "      <td>32.731611</td>\n",
              "      <td>-96.709417</td>\n",
              "    </tr>\n",
              "    <tr>\n",
              "      <th>41758</th>\n",
              "      <td>4638472273</td>\n",
              "      <td>7428841195</td>\n",
              "      <td>Incoming</td>\n",
              "      <td>2012-09-08</td>\n",
              "      <td>0 days 22:19:08.522062</td>\n",
              "      <td>Sat</td>\n",
              "      <td>0:04:18.402811</td>\n",
              "      <td>bcec0121-164d-406c-8c04-d12870893992</td>\n",
              "      <td>32.731611</td>\n",
              "      <td>-96.709417</td>\n",
              "    </tr>\n",
              "    <tr>\n",
              "      <th>42224</th>\n",
              "      <td>4638472273</td>\n",
              "      <td>7922223441</td>\n",
              "      <td>Incoming</td>\n",
              "      <td>2012-09-15</td>\n",
              "      <td>0 days 05:14:40.655349</td>\n",
              "      <td>Sat</td>\n",
              "      <td>0:04:07.561627</td>\n",
              "      <td>cd9f3b1a-2eb8-4cdb-86d1-5d4c2740b1dc</td>\n",
              "      <td>32.731722</td>\n",
              "      <td>-96.709500</td>\n",
              "    </tr>\n",
              "    <tr>\n",
              "      <th>44498</th>\n",
              "      <td>4638472273</td>\n",
              "      <td>7721472178</td>\n",
              "      <td>Incoming</td>\n",
              "      <td>2012-10-21</td>\n",
              "      <td>0 days 22:00:09.753350</td>\n",
              "      <td>Sun</td>\n",
              "      <td>0:03:24.773041</td>\n",
              "      <td>d760c426-4d58-4f9c-9950-b68a3a54612c</td>\n",
              "      <td>32.731611</td>\n",
              "      <td>-96.709417</td>\n",
              "    </tr>\n",
              "    <tr>\n",
              "      <th>44927</th>\n",
              "      <td>4638472273</td>\n",
              "      <td>1755442610</td>\n",
              "      <td>Incoming</td>\n",
              "      <td>2012-10-27</td>\n",
              "      <td>0 days 05:47:54.723850</td>\n",
              "      <td>Sat</td>\n",
              "      <td>0:04:28.876617</td>\n",
              "      <td>1bfc786a-d4c2-464c-bc45-b9aad0c81216</td>\n",
              "      <td>32.731722</td>\n",
              "      <td>-96.709500</td>\n",
              "    </tr>\n",
              "    <tr>\n",
              "      <th>44994</th>\n",
              "      <td>4638472273</td>\n",
              "      <td>7922223441</td>\n",
              "      <td>Incoming</td>\n",
              "      <td>2012-10-28</td>\n",
              "      <td>0 days 05:24:17.234557</td>\n",
              "      <td>Sun</td>\n",
              "      <td>0:02:00.473836</td>\n",
              "      <td>bde84490-896f-4060-8bd0-bd7a90cc20d9</td>\n",
              "      <td>32.750556</td>\n",
              "      <td>-96.694722</td>\n",
              "    </tr>\n",
              "    <tr>\n",
              "      <th>49203</th>\n",
              "      <td>4638472273</td>\n",
              "      <td>8068555700</td>\n",
              "      <td>Incoming</td>\n",
              "      <td>2012-12-29</td>\n",
              "      <td>0 days 05:08:40.433945</td>\n",
              "      <td>Sat</td>\n",
              "      <td>0:03:10.280023</td>\n",
              "      <td>aeaf8b43-8034-44fe-833d-31854a75acbf</td>\n",
              "      <td>32.731722</td>\n",
              "      <td>-96.709500</td>\n",
              "    </tr>\n",
              "    <tr>\n",
              "      <th>51586</th>\n",
              "      <td>4638472273</td>\n",
              "      <td>2946222380</td>\n",
              "      <td>Incoming</td>\n",
              "      <td>2013-02-03</td>\n",
              "      <td>0 days 22:14:12.703233</td>\n",
              "      <td>Sun</td>\n",
              "      <td>0:04:05.550748</td>\n",
              "      <td>cd9f3b1a-2eb8-4cdb-86d1-5d4c2740b1dc</td>\n",
              "      <td>32.731722</td>\n",
              "      <td>-96.709500</td>\n",
              "    </tr>\n",
              "  </tbody>\n",
              "</table>\n",
              "</div>"
            ],
            "text/plain": [
              "               In         Out Direction   CallDate               CallTime  \\\n",
              "940    4638472273  6150928001  Incoming 2011-01-08 0 days 22:22:33.693878   \n",
              "1875   4638472273  2145623768  Incoming 2011-01-22 0 days 22:21:27.466908   \n",
              "6949   4638472273  5621270003    Missed 2011-04-09 0 days 22:59:23.206408   \n",
              "7468   4638472273  7756914135  Incoming 2011-04-17 0 days 05:15:40.205917   \n",
              "9753   4638472273  7922223441  Incoming 2011-05-21 0 days 05:08:20.121145   \n",
              "13951  4638472273  7428841195    Missed 2011-07-23 0 days 22:56:02.014834   \n",
              "17515  4638472273  2666307251  Incoming 2011-09-11 0 days 05:44:15.432523   \n",
              "21638  4638472273  6150928001  Incoming 2011-11-13 0 days 05:10:41.954161   \n",
              "22045  4638472273  6022767590    Missed 2011-11-19 0 days 22:59:53.166951   \n",
              "22502  4638472273  5621270003  Incoming 2011-11-26 0 days 22:10:48.879076   \n",
              "27866  4638472273  2946222380    Missed 2012-02-12 0 days 22:48:34.319367   \n",
              "31975  4638472273  1755442610  Incoming 2012-04-14 0 days 05:42:32.004437   \n",
              "32605  4638472273  7756914135  Incoming 2012-04-22 0 days 22:44:21.992759   \n",
              "32606  4638472273  7922223441  Incoming 2012-04-22 0 days 05:02:55.678110   \n",
              "34427  4638472273  5621270003  Incoming 2012-05-19 0 days 05:42:45.405430   \n",
              "38110  4638472273  2145623768  Incoming 2012-07-15 0 days 05:59:38.556670   \n",
              "38564  4638472273  5481755331  Incoming 2012-07-22 0 days 22:14:37.361635   \n",
              "39870  4638472273  8180005891  Incoming 2012-08-12 0 days 22:31:22.519784   \n",
              "40275  4638472273  7756914135    Missed 2012-08-19 0 days 05:33:32.103650   \n",
              "40789  4638472273  7428841195  Incoming 2012-08-26 0 days 22:23:58.453302   \n",
              "41757  4638472273  7922223441  Incoming 2012-09-08 0 days 22:45:53.008411   \n",
              "41758  4638472273  7428841195  Incoming 2012-09-08 0 days 22:19:08.522062   \n",
              "42224  4638472273  7922223441  Incoming 2012-09-15 0 days 05:14:40.655349   \n",
              "44498  4638472273  7721472178  Incoming 2012-10-21 0 days 22:00:09.753350   \n",
              "44927  4638472273  1755442610  Incoming 2012-10-27 0 days 05:47:54.723850   \n",
              "44994  4638472273  7922223441  Incoming 2012-10-28 0 days 05:24:17.234557   \n",
              "49203  4638472273  8068555700  Incoming 2012-12-29 0 days 05:08:40.433945   \n",
              "51586  4638472273  2946222380  Incoming 2013-02-03 0 days 22:14:12.703233   \n",
              "\n",
              "       DOW        Duration                               TowerID   TowerLat  \\\n",
              "940    Sat  0:00:35.065912  26f7441e-e64b-4b9d-8c5a-0eb34f7e919f  32.731611   \n",
              "1875   Sat  0:03:40.018320  2567c73b-3711-4a31-8683-9d12d56857d8  32.731611   \n",
              "6949   Sat  0:03:06.567364  2567c73b-3711-4a31-8683-9d12d56857d8  32.731611   \n",
              "7468   Sun  0:02:09.984993  cd9f3b1a-2eb8-4cdb-86d1-5d4c2740b1dc  32.731722   \n",
              "9753   Sat  0:01:30.059591  0db53dd3-eb9c-4344-abc5-c2d74ebc3eec  32.731611   \n",
              "13951  Sat  0:04:48.497077  26f7441e-e64b-4b9d-8c5a-0eb34f7e919f  32.731611   \n",
              "17515  Sun  0:01:39.500414  bcec0121-164d-406c-8c04-d12870893992  32.731611   \n",
              "21638  Sun  0:00:44.369613  f3f289f5-7d29-4d3f-9b9a-a0ceaca10a1d  32.750556   \n",
              "22045  Sat  0:00:05.795265  8ba7e0d7-eb6e-4828-9c70-c469954a627d  32.731611   \n",
              "22502  Sat  0:03:07.592270  bcec0121-164d-406c-8c04-d12870893992  32.731611   \n",
              "27866  Sun  0:03:24.762196  1bfc786a-d4c2-464c-bc45-b9aad0c81216  32.731722   \n",
              "31975  Sat  0:07:02.657988  d760c426-4d58-4f9c-9950-b68a3a54612c  32.731611   \n",
              "32605  Sun  0:02:37.995933  0db53dd3-eb9c-4344-abc5-c2d74ebc3eec  32.731611   \n",
              "32606  Sun  0:03:50.596153  8ba7e0d7-eb6e-4828-9c70-c469954a627d  32.731611   \n",
              "34427  Sat  0:03:33.104834  2567c73b-3711-4a31-8683-9d12d56857d8  32.731611   \n",
              "38110  Sun  0:04:29.583137  1bfc786a-d4c2-464c-bc45-b9aad0c81216  32.731722   \n",
              "38564  Sun  0:01:44.568702  aeaf8b43-8034-44fe-833d-31854a75acbf  32.731722   \n",
              "39870  Sun  0:00:12.541785  26f7441e-e64b-4b9d-8c5a-0eb34f7e919f  32.731611   \n",
              "40275  Sun  0:01:35.932559  aeaf8b43-8034-44fe-833d-31854a75acbf  32.731722   \n",
              "40789  Sun  0:06:08.978230  bcec0121-164d-406c-8c04-d12870893992  32.731611   \n",
              "41757  Sat  0:04:26.260140  2567c73b-3711-4a31-8683-9d12d56857d8  32.731611   \n",
              "41758  Sat  0:04:18.402811  bcec0121-164d-406c-8c04-d12870893992  32.731611   \n",
              "42224  Sat  0:04:07.561627  cd9f3b1a-2eb8-4cdb-86d1-5d4c2740b1dc  32.731722   \n",
              "44498  Sun  0:03:24.773041  d760c426-4d58-4f9c-9950-b68a3a54612c  32.731611   \n",
              "44927  Sat  0:04:28.876617  1bfc786a-d4c2-464c-bc45-b9aad0c81216  32.731722   \n",
              "44994  Sun  0:02:00.473836  bde84490-896f-4060-8bd0-bd7a90cc20d9  32.750556   \n",
              "49203  Sat  0:03:10.280023  aeaf8b43-8034-44fe-833d-31854a75acbf  32.731722   \n",
              "51586  Sun  0:04:05.550748  cd9f3b1a-2eb8-4cdb-86d1-5d4c2740b1dc  32.731722   \n",
              "\n",
              "        TowerLon  \n",
              "940   -96.709417  \n",
              "1875  -96.709417  \n",
              "6949  -96.709417  \n",
              "7468  -96.709500  \n",
              "9753  -96.709417  \n",
              "13951 -96.709417  \n",
              "17515 -96.709417  \n",
              "21638 -96.694722  \n",
              "22045 -96.709417  \n",
              "22502 -96.709417  \n",
              "27866 -96.709500  \n",
              "31975 -96.709417  \n",
              "32605 -96.709417  \n",
              "32606 -96.709417  \n",
              "34427 -96.709417  \n",
              "38110 -96.709500  \n",
              "38564 -96.709500  \n",
              "39870 -96.709417  \n",
              "40275 -96.709500  \n",
              "40789 -96.709417  \n",
              "41757 -96.709417  \n",
              "41758 -96.709417  \n",
              "42224 -96.709500  \n",
              "44498 -96.709417  \n",
              "44927 -96.709500  \n",
              "44994 -96.694722  \n",
              "49203 -96.709500  \n",
              "51586 -96.709500  "
            ]
          },
          "execution_count": 30,
          "metadata": {},
          "output_type": "execute_result"
        }
      ],
      "source": [
        "#TO DO:\n",
        "user1_time_call_oow = user1_weekends[(user1_weekends['CallTime'] >= '22:00:00') | (user1_weekends['CallTime'] <= '06:00:00')]\n",
        "user1_time_call_oow"
      ]
    },
    {
      "cell_type": "markdown",
      "metadata": {
        "id": "UsiUS6znv9HM"
      },
      "source": [
        "**7. Visualize the dataframe with a scatter plot as a sanity check.**\n",
        "\n",
        "Since you're [familiar with maps](https://en.wikipedia.org/wiki/Geographic_coordinate_system#Geographic_latitude_and_longitude), you know well that your X-Coordinate should be Longitude, and your Y coordinate should be the tower Latitude. Check the dataset headers for proper column feature names.\n",
        " \n",
        "At this point, you don't yet know exactly where the user is located just based on the cell phone tower position data; but considering the below are for Calls that arrived in the twilight hours of weekends, it's likely that wherever they are bunched up is probably near where the caller's residence:"
      ]
    },
    {
      "cell_type": "code",
      "execution_count": null,
      "metadata": {
        "colab": {
          "base_uri": "https://localhost:8080/",
          "height": 299
        },
        "id": "-VYKjgkGv9HT",
        "outputId": "e0464af1-d170-4614-c715-5d70ff1f8c2a"
      },
      "outputs": [
        {
          "data": {
            "text/plain": [
              "<AxesSubplot:xlabel='TowerLon', ylabel='TowerLat'>"
            ]
          },
          "execution_count": 31,
          "metadata": {},
          "output_type": "execute_result"
        },
        {
          "data": {
            "image/png": "[encoded data removed]",
            "text/plain": [
              "<Figure size 432x288 with 1 Axes>"
            ]
          },
          "metadata": {},
          "output_type": "display_data"
        }
      ],
      "source": [
        "#TO DO:\n",
        "sns.scatterplot(data=user1_time_call_oow, x='TowerLon', y = 'TowerLat')"
      ]
    },
    {
      "cell_type": "code",
      "execution_count": null,
      "metadata": {
        "colab": {
          "base_uri": "https://localhost:8080/",
          "height": 337
        },
        "id": "Q_FgvICNGbdl",
        "outputId": "d17dbd82-fdba-4143-9d08-9ccde71ef1c4"
      },
      "outputs": [
        {
          "data": {
            "text/html": [
              "<div>\n",
              "<style scoped>\n",
              "    .dataframe tbody tr th:only-of-type {\n",
              "        vertical-align: middle;\n",
              "    }\n",
              "\n",
              "    .dataframe tbody tr th {\n",
              "        vertical-align: top;\n",
              "    }\n",
              "\n",
              "    .dataframe thead th {\n",
              "        text-align: right;\n",
              "    }\n",
              "</style>\n",
              "<table border=\"1\" class=\"dataframe\">\n",
              "  <thead>\n",
              "    <tr style=\"text-align: right;\">\n",
              "      <th></th>\n",
              "      <th>In</th>\n",
              "      <th>Out</th>\n",
              "      <th>Direction</th>\n",
              "      <th>CallDate</th>\n",
              "      <th>CallTime</th>\n",
              "      <th>DOW</th>\n",
              "      <th>Duration</th>\n",
              "      <th>TowerID</th>\n",
              "      <th>TowerLat</th>\n",
              "      <th>TowerLon</th>\n",
              "    </tr>\n",
              "  </thead>\n",
              "  <tbody>\n",
              "    <tr>\n",
              "      <th>621</th>\n",
              "      <td>4638472273</td>\n",
              "      <td>5481755331</td>\n",
              "      <td>Incoming</td>\n",
              "      <td>2011-01-03</td>\n",
              "      <td>0 days 22:44:00.785678</td>\n",
              "      <td>Mon</td>\n",
              "      <td>0:03:10.663981</td>\n",
              "      <td>2567c73b-3711-4a31-8683-9d12d56857d8</td>\n",
              "      <td>32.731611</td>\n",
              "      <td>-96.709417</td>\n",
              "    </tr>\n",
              "    <tr>\n",
              "      <th>757</th>\n",
              "      <td>4638472273</td>\n",
              "      <td>7922223441</td>\n",
              "      <td>Missed</td>\n",
              "      <td>2011-01-05</td>\n",
              "      <td>0 days 22:14:05.925483</td>\n",
              "      <td>Wed</td>\n",
              "      <td>0:00:42.504919</td>\n",
              "      <td>1bfc786a-d4c2-464c-bc45-b9aad0c81216</td>\n",
              "      <td>32.731722</td>\n",
              "      <td>-96.709500</td>\n",
              "    </tr>\n",
              "    <tr>\n",
              "      <th>858</th>\n",
              "      <td>4638472273</td>\n",
              "      <td>6150928001</td>\n",
              "      <td>Incoming</td>\n",
              "      <td>2011-01-07</td>\n",
              "      <td>0 days 22:48:47.825163</td>\n",
              "      <td>Fri</td>\n",
              "      <td>0:01:00.671636</td>\n",
              "      <td>26f7441e-e64b-4b9d-8c5a-0eb34f7e919f</td>\n",
              "      <td>32.731611</td>\n",
              "      <td>-96.709417</td>\n",
              "    </tr>\n",
              "    <tr>\n",
              "      <th>940</th>\n",
              "      <td>4638472273</td>\n",
              "      <td>6150928001</td>\n",
              "      <td>Incoming</td>\n",
              "      <td>2011-01-08</td>\n",
              "      <td>0 days 22:22:33.693878</td>\n",
              "      <td>Sat</td>\n",
              "      <td>0:00:35.065912</td>\n",
              "      <td>26f7441e-e64b-4b9d-8c5a-0eb34f7e919f</td>\n",
              "      <td>32.731611</td>\n",
              "      <td>-96.709417</td>\n",
              "    </tr>\n",
              "    <tr>\n",
              "      <th>1591</th>\n",
              "      <td>4638472273</td>\n",
              "      <td>8068555700</td>\n",
              "      <td>Incoming</td>\n",
              "      <td>2011-01-18</td>\n",
              "      <td>0 days 22:47:42.990284</td>\n",
              "      <td>Tue</td>\n",
              "      <td>0:02:32.619365</td>\n",
              "      <td>2567c73b-3711-4a31-8683-9d12d56857d8</td>\n",
              "      <td>32.731611</td>\n",
              "      <td>-96.709417</td>\n",
              "    </tr>\n",
              "    <tr>\n",
              "      <th>...</th>\n",
              "      <td>...</td>\n",
              "      <td>...</td>\n",
              "      <td>...</td>\n",
              "      <td>...</td>\n",
              "      <td>...</td>\n",
              "      <td>...</td>\n",
              "      <td>...</td>\n",
              "      <td>...</td>\n",
              "      <td>...</td>\n",
              "      <td>...</td>\n",
              "    </tr>\n",
              "    <tr>\n",
              "      <th>51453</th>\n",
              "      <td>4638472273</td>\n",
              "      <td>7922223441</td>\n",
              "      <td>Incoming</td>\n",
              "      <td>2013-02-01</td>\n",
              "      <td>0 days 22:06:59.670813</td>\n",
              "      <td>Fri</td>\n",
              "      <td>0:02:22.333639</td>\n",
              "      <td>1bfc786a-d4c2-464c-bc45-b9aad0c81216</td>\n",
              "      <td>32.731722</td>\n",
              "      <td>-96.709500</td>\n",
              "    </tr>\n",
              "    <tr>\n",
              "      <th>51586</th>\n",
              "      <td>4638472273</td>\n",
              "      <td>2946222380</td>\n",
              "      <td>Incoming</td>\n",
              "      <td>2013-02-03</td>\n",
              "      <td>0 days 22:14:12.703233</td>\n",
              "      <td>Sun</td>\n",
              "      <td>0:04:05.550748</td>\n",
              "      <td>cd9f3b1a-2eb8-4cdb-86d1-5d4c2740b1dc</td>\n",
              "      <td>32.731722</td>\n",
              "      <td>-96.709500</td>\n",
              "    </tr>\n",
              "    <tr>\n",
              "      <th>52268</th>\n",
              "      <td>4638472273</td>\n",
              "      <td>1755442610</td>\n",
              "      <td>Incoming</td>\n",
              "      <td>2013-02-13</td>\n",
              "      <td>0 days 05:35:38.188477</td>\n",
              "      <td>Wed</td>\n",
              "      <td>0:02:44.741836</td>\n",
              "      <td>0db53dd3-eb9c-4344-abc5-c2d74ebc3eec</td>\n",
              "      <td>32.731611</td>\n",
              "      <td>-96.709417</td>\n",
              "    </tr>\n",
              "    <tr>\n",
              "      <th>52269</th>\n",
              "      <td>4638472273</td>\n",
              "      <td>7841019020</td>\n",
              "      <td>Incoming</td>\n",
              "      <td>2013-02-13</td>\n",
              "      <td>0 days 22:23:50.099716</td>\n",
              "      <td>Wed</td>\n",
              "      <td>0:03:24.082002</td>\n",
              "      <td>0db53dd3-eb9c-4344-abc5-c2d74ebc3eec</td>\n",
              "      <td>32.731611</td>\n",
              "      <td>-96.709417</td>\n",
              "    </tr>\n",
              "    <tr>\n",
              "      <th>53088</th>\n",
              "      <td>4638472273</td>\n",
              "      <td>5621270003</td>\n",
              "      <td>Incoming</td>\n",
              "      <td>2013-02-25</td>\n",
              "      <td>0 days 22:38:36.119007</td>\n",
              "      <td>Mon</td>\n",
              "      <td>0:04:18.145216</td>\n",
              "      <td>f3f289f5-7d29-4d3f-9b9a-a0ceaca10a1d</td>\n",
              "      <td>32.750556</td>\n",
              "      <td>-96.694722</td>\n",
              "    </tr>\n",
              "  </tbody>\n",
              "</table>\n",
              "<p>108 rows × 10 columns</p>\n",
              "</div>"
            ],
            "text/plain": [
              "               In         Out Direction   CallDate               CallTime  \\\n",
              "621    4638472273  5481755331  Incoming 2011-01-03 0 days 22:44:00.785678   \n",
              "757    4638472273  7922223441    Missed 2011-01-05 0 days 22:14:05.925483   \n",
              "858    4638472273  6150928001  Incoming 2011-01-07 0 days 22:48:47.825163   \n",
              "940    4638472273  6150928001  Incoming 2011-01-08 0 days 22:22:33.693878   \n",
              "1591   4638472273  8068555700  Incoming 2011-01-18 0 days 22:47:42.990284   \n",
              "...           ...         ...       ...        ...                    ...   \n",
              "51453  4638472273  7922223441  Incoming 2013-02-01 0 days 22:06:59.670813   \n",
              "51586  4638472273  2946222380  Incoming 2013-02-03 0 days 22:14:12.703233   \n",
              "52268  4638472273  1755442610  Incoming 2013-02-13 0 days 05:35:38.188477   \n",
              "52269  4638472273  7841019020  Incoming 2013-02-13 0 days 22:23:50.099716   \n",
              "53088  4638472273  5621270003  Incoming 2013-02-25 0 days 22:38:36.119007   \n",
              "\n",
              "       DOW        Duration                               TowerID   TowerLat  \\\n",
              "621    Mon  0:03:10.663981  2567c73b-3711-4a31-8683-9d12d56857d8  32.731611   \n",
              "757    Wed  0:00:42.504919  1bfc786a-d4c2-464c-bc45-b9aad0c81216  32.731722   \n",
              "858    Fri  0:01:00.671636  26f7441e-e64b-4b9d-8c5a-0eb34f7e919f  32.731611   \n",
              "940    Sat  0:00:35.065912  26f7441e-e64b-4b9d-8c5a-0eb34f7e919f  32.731611   \n",
              "1591   Tue  0:02:32.619365  2567c73b-3711-4a31-8683-9d12d56857d8  32.731611   \n",
              "...    ...             ...                                   ...        ...   \n",
              "51453  Fri  0:02:22.333639  1bfc786a-d4c2-464c-bc45-b9aad0c81216  32.731722   \n",
              "51586  Sun  0:04:05.550748  cd9f3b1a-2eb8-4cdb-86d1-5d4c2740b1dc  32.731722   \n",
              "52268  Wed  0:02:44.741836  0db53dd3-eb9c-4344-abc5-c2d74ebc3eec  32.731611   \n",
              "52269  Wed  0:03:24.082002  0db53dd3-eb9c-4344-abc5-c2d74ebc3eec  32.731611   \n",
              "53088  Mon  0:04:18.145216  f3f289f5-7d29-4d3f-9b9a-a0ceaca10a1d  32.750556   \n",
              "\n",
              "        TowerLon  \n",
              "621   -96.709417  \n",
              "757   -96.709500  \n",
              "858   -96.709417  \n",
              "940   -96.709417  \n",
              "1591  -96.709417  \n",
              "...          ...  \n",
              "51453 -96.709500  \n",
              "51586 -96.709500  \n",
              "52268 -96.709417  \n",
              "52269 -96.709417  \n",
              "53088 -96.694722  \n",
              "\n",
              "[108 rows x 10 columns]"
            ]
          },
          "execution_count": 33,
          "metadata": {},
          "output_type": "execute_result"
        }
      ],
      "source": [
        "user1_time_call_oow1 = user1[(user1['CallTime'] >= '22:00:00') | (user1['CallTime'] <= '06:00:00')]\n",
        "user1_time_call_oow1"
      ]
    },
    {
      "cell_type": "code",
      "execution_count": null,
      "metadata": {
        "colab": {
          "base_uri": "https://localhost:8080/",
          "height": 299
        },
        "id": "ujeK9NTRGnQI",
        "outputId": "8eabe6b5-b159-440b-bae9-0011917ba2ba"
      },
      "outputs": [
        {
          "data": {
            "text/plain": [
              "<matplotlib.axes._subplots.AxesSubplot at 0x7f8a4c19ef10>"
            ]
          },
          "execution_count": 27,
          "metadata": {},
          "output_type": "execute_result"
        },
        {
          "data": {
            "image/png": "[encoded data removed]",
            "text/plain": [
              "<Figure size 432x288 with 1 Axes>"
            ]
          },
          "metadata": {
            "needs_background": "light"
          },
          "output_type": "display_data"
        }
      ],
      "source": [
        "sns.scatterplot(data=user1_time_call_oow1, x='TowerLon', y = 'TowerLat')"
      ]
    },
    {
      "cell_type": "markdown",
      "metadata": {
        "id": "BkY60K1Wv9Hf"
      },
      "source": [
        "**8. Run K-Means on that dataframe with `K=2` then print out the Cluster Info using clusterInfo function**, with the goal being that one of the centroids will sweep up the annoying outliers; and the other will zero in on the user's approximate home location. Or rather the location of the cell tower closest to their home.....\n",
        "\n",
        "Be sure to only feed in Lat and Lon coordinates to the KMeans algorithm since none of the other data is suitable for your purposes. Since both Lat and Lon are (approximately) on the same scale, no feature scaling is required."
      ]
    },
    {
      "cell_type": "code",
      "execution_count": null,
      "metadata": {
        "colab": {
          "base_uri": "https://localhost:8080/"
        },
        "id": "2baLMZwXv9Hh",
        "outputId": "af3b824a-1cf8-4140-b0ce-77aeb7f90169"
      },
      "outputs": [
        {
          "name": "stdout",
          "output_type": "stream",
          "text": [
            "Cluster Analysis Inertia:  1.1304346153788863e-07\n",
            "------------------------------------------\n",
            "\n",
            "  Cluster  0\n",
            "    Centroid  [ 32.73164942 -96.70944573]\n",
            "    #Samples  26\n",
            "\n",
            "  Cluster  1\n",
            "    Centroid  [ 32.750556 -96.694722]\n",
            "    #Samples  2\n"
          ]
        }
      ],
      "source": [
        "#TO DO:\n",
        "from sklearn.cluster import KMeans\n",
        "useful_features = ['TowerLat', 'TowerLon']\n",
        "x_train = user1_time_call_oow[useful_features].copy()\n",
        "kmeans = KMeans(n_clusters=2, random_state=0).fit(x_train)\n",
        "clusterInfo(kmeans)\n"
      ]
    },
    {
      "cell_type": "markdown",
      "metadata": {
        "id": "LhEFcDGov9H3"
      },
      "source": [
        "**9. Add centroid locations onto your scatter plot. Use a distinguishable marker and color.**\n",
        "\n",
        "Hint: Make sure you graph the CORRECT coordinates. This is part of your domain expertise."
      ]
    },
    {
      "cell_type": "code",
      "execution_count": null,
      "metadata": {
        "colab": {
          "base_uri": "https://localhost:8080/",
          "height": 286
        },
        "id": "yr9iDxKgv9H7",
        "outputId": "2442ce38-f2ac-47a8-fa01-8362f446b3c6"
      },
      "outputs": [
        {
          "name": "stderr",
          "output_type": "stream",
          "text": [
            "No artists with labels found to put in legend.  Note that artists whose label start with an underscore are ignored when legend() is called with no argument.\n"
          ]
        },
        {
          "data": {
            "image/png": "[encoded data removed]",
            "text/plain": [
              "<Figure size 432x288 with 1 Axes>"
            ]
          },
          "metadata": {},
          "output_type": "display_data"
        }
      ],
      "source": [
        "#TO DO:\n",
        "centroids = kmeans.cluster_centers_\n",
        "centroids[:,1]\n",
        "plt.scatter(user1_time_call_oow['TowerLat'] , user1_time_call_oow['TowerLon'])\n",
        "plt.scatter(centroids[:,0] , centroids[:,1],  marker=\"X\", color='b')\n",
        "plt.legend()\n",
        "plt.show()\n",
        " "
      ]
    },
    {
      "cell_type": "markdown",
      "metadata": {
        "id": "eC2FoHiav9IF"
      },
      "source": [
        "**10. Now that you have a system in place, repeat the above steps (4, 8, and 9) for all 10 individuals in the dataset**. \n",
        "\n",
        "You might want to use a for-loop unless you enjoy copying and pasting:"
      ]
    },
    {
      "cell_type": "code",
      "execution_count": null,
      "metadata": {
        "colab": {
          "base_uri": "https://localhost:8080/",
          "height": 1000
        },
        "id": "6t_Q12n7v9IG",
        "outputId": "f05e3760-176e-4e78-b8cf-64fbfafe95dd"
      },
      "outputs": [
        {
          "name": "stderr",
          "output_type": "stream",
          "text": [
            "No artists with labels found to put in legend.  Note that artists whose label start with an underscore are ignored when legend() is called with no argument.\n"
          ]
        },
        {
          "name": "stdout",
          "output_type": "stream",
          "text": [
            "Cluster Analysis Inertia:  2.0222627342125383\n",
            "------------------------------------------\n",
            "\n",
            "  Cluster  0\n",
            "    Centroid  [ 32.89725753 -96.90470092]\n",
            "    #Samples  2021\n",
            "\n",
            "  Cluster  1\n",
            "    Centroid  [ 32.73670309 -96.71403501]\n",
            "    #Samples  1627\n"
          ]
        },
        {
          "data": {
            "image/png": "[encoded data removed]",
            "text/plain": [
              "<Figure size 432x288 with 1 Axes>"
            ]
          },
          "metadata": {},
          "output_type": "display_data"
        },
        {
          "name": "stdout",
          "output_type": "stream",
          "text": [
            "Cluster Analysis Inertia:  2.5360882555984037\n",
            "------------------------------------------\n",
            "\n",
            "  Cluster  0\n",
            "    Centroid  [ 32.69997899 -96.93403247]\n",
            "    #Samples  6664\n",
            "\n",
            "  Cluster  1\n",
            "    Centroid  [ 32.8697266  -96.92288527]\n",
            "    #Samples  4969\n"
          ]
        },
        {
          "name": "stderr",
          "output_type": "stream",
          "text": [
            "No artists with labels found to put in legend.  Note that artists whose label start with an underscore are ignored when legend() is called with no argument.\n"
          ]
        },
        {
          "data": {
            "image/png": "[encoded data removed]",
            "text/plain": [
              "<Figure size 432x288 with 1 Axes>"
            ]
          },
          "metadata": {},
          "output_type": "display_data"
        },
        {
          "name": "stdout",
          "output_type": "stream",
          "text": [
            "Cluster Analysis Inertia:  0.19885973913380603\n",
            "------------------------------------------\n",
            "\n",
            "  Cluster  0\n",
            "    Centroid  [ 32.86357133 -96.86643342]\n"
          ]
        },
        {
          "name": "stderr",
          "output_type": "stream",
          "text": [
            "No artists with labels found to put in legend.  Note that artists whose label start with an underscore are ignored when legend() is called with no argument.\n"
          ]
        },
        {
          "name": "stdout",
          "output_type": "stream",
          "text": [
            "    #Samples  1286\n",
            "\n",
            "  Cluster  1\n",
            "    Centroid  [ 32.78195472 -96.89310902]\n",
            "    #Samples  1610\n"
          ]
        },
        {
          "data": {
            "image/png": "[encoded data removed]",
            "text/plain": [
              "<Figure size 432x288 with 1 Axes>"
            ]
          },
          "metadata": {},
          "output_type": "display_data"
        },
        {
          "name": "stderr",
          "output_type": "stream",
          "text": [
            "No artists with labels found to put in legend.  Note that artists whose label start with an underscore are ignored when legend() is called with no argument.\n"
          ]
        },
        {
          "name": "stdout",
          "output_type": "stream",
          "text": [
            "Cluster Analysis Inertia:  0.011290729481902184\n",
            "------------------------------------------\n",
            "\n",
            "  Cluster  0\n",
            "    Centroid  [ 32.84671395 -96.83518329]\n",
            "    #Samples  1134\n",
            "\n",
            "  Cluster  1\n",
            "    Centroid  [ 32.8541588  -96.84741331]\n",
            "    #Samples  1363\n"
          ]
        },
        {
          "data": {
            "image/png": "[encoded data removed]",
            "text/plain": [
              "<Figure size 432x288 with 1 Axes>"
            ]
          },
          "metadata": {},
          "output_type": "display_data"
        },
        {
          "name": "stdout",
          "output_type": "stream",
          "text": [
            "Cluster Analysis Inertia:  0.05286466998056458\n",
            "------------------------------------------\n",
            "\n",
            "  Cluster  0\n",
            "    Centroid  [ 32.92125161 -96.75668579]\n",
            "    #Samples  1660\n",
            "\n",
            "  Cluster  1\n",
            "    Centroid  [ 32.87499931 -96.73034439]\n",
            "    #Samples  1205\n"
          ]
        },
        {
          "name": "stderr",
          "output_type": "stream",
          "text": [
            "No artists with labels found to put in legend.  Note that artists whose label start with an underscore are ignored when legend() is called with no argument.\n"
          ]
        },
        {
          "data": {
            "image/png": "[encoded data removed]",
            "text/plain": [
              "<Figure size 432x288 with 1 Axes>"
            ]
          },
          "metadata": {},
          "output_type": "display_data"
        },
        {
          "name": "stdout",
          "output_type": "stream",
          "text": [
            "Cluster Analysis Inertia:  0.5977979311292801\n",
            "------------------------------------------"
          ]
        },
        {
          "name": "stderr",
          "output_type": "stream",
          "text": [
            "No artists with labels found to put in legend.  Note that artists whose label start with an underscore are ignored when legend() is called with no argument.\n"
          ]
        },
        {
          "name": "stdout",
          "output_type": "stream",
          "text": [
            "\n",
            "\n",
            "  Cluster  0\n",
            "    Centroid  [ 32.77196035 -96.69242465]\n",
            "    #Samples  699\n",
            "\n",
            "  Cluster  1\n",
            "    Centroid  [ 32.81102081 -96.86547112]\n",
            "    #Samples  911\n"
          ]
        },
        {
          "data": {
            "image/png": "[encoded data removed]",
            "text/plain": [
              "<Figure size 432x288 with 1 Axes>"
            ]
          },
          "metadata": {},
          "output_type": "display_data"
        },
        {
          "name": "stderr",
          "output_type": "stream",
          "text": [
            "No artists with labels found to put in legend.  Note that artists whose label start with an underscore are ignored when legend() is called with no argument.\n"
          ]
        },
        {
          "name": "stdout",
          "output_type": "stream",
          "text": [
            "Cluster Analysis Inertia:  0.340892757975374\n",
            "------------------------------------------\n",
            "\n",
            "  Cluster  0\n",
            "    Centroid  [ 32.75278632 -96.74349526]\n",
            "    #Samples  1325\n",
            "\n",
            "  Cluster  1\n",
            "    Centroid  [ 32.70801142 -96.83462391]\n",
            "    #Samples  1085\n"
          ]
        },
        {
          "data": {
            "image/png": "[encoded data removed]",
            "text/plain": [
              "<Figure size 432x288 with 1 Axes>"
            ]
          },
          "metadata": {},
          "output_type": "display_data"
        },
        {
          "name": "stderr",
          "output_type": "stream",
          "text": [
            "No artists with labels found to put in legend.  Note that artists whose label start with an underscore are ignored when legend() is called with no argument.\n"
          ]
        },
        {
          "name": "stdout",
          "output_type": "stream",
          "text": [
            "Cluster Analysis Inertia:  3.6204390158556095\n",
            "------------------------------------------\n",
            "\n",
            "  Cluster  0\n",
            "    Centroid  [ 32.72028091 -96.82606713]\n",
            "    #Samples  3220\n",
            "\n",
            "  Cluster  1\n",
            "    Centroid  [ 32.7045021  -96.61532634]\n",
            "    #Samples  2615\n"
          ]
        },
        {
          "data": {
            "image/png": "[encoded data removed]",
            "text/plain": [
              "<Figure size 432x288 with 1 Axes>"
            ]
          },
          "metadata": {},
          "output_type": "display_data"
        },
        {
          "name": "stdout",
          "output_type": "stream",
          "text": [
            "Cluster Analysis Inertia:  1.0197947022342408\n",
            "------------------------------------------\n",
            "\n",
            "  Cluster  0\n",
            "    Centroid  [ 32.77336354 -96.81508844]"
          ]
        },
        {
          "name": "stderr",
          "output_type": "stream",
          "text": [
            "No artists with labels found to put in legend.  Note that artists whose label start with an underscore are ignored when legend() is called with no argument.\n"
          ]
        },
        {
          "name": "stdout",
          "output_type": "stream",
          "text": [
            "\n",
            "    #Samples  5179\n",
            "\n",
            "  Cluster  1\n",
            "    Centroid  [ 32.72271798 -96.88984119]\n",
            "    #Samples  6874\n"
          ]
        },
        {
          "data": {
            "image/png": "[encoded data removed]",
            "text/plain": [
              "<Figure size 432x288 with 1 Axes>"
            ]
          },
          "metadata": {},
          "output_type": "display_data"
        },
        {
          "name": "stdout",
          "output_type": "stream",
          "text": [
            "Cluster Analysis Inertia:  2.232109587602884\n",
            "------------------------------------------\n",
            "\n",
            "  Cluster  0\n",
            "    Centroid  [ 32.98115835 -96.80278795]\n"
          ]
        },
        {
          "name": "stderr",
          "output_type": "stream",
          "text": [
            "No artists with labels found to put in legend.  Note that artists whose label start with an underscore are ignored when legend() is called with no argument.\n"
          ]
        },
        {
          "name": "stdout",
          "output_type": "stream",
          "text": [
            "    #Samples  4417\n",
            "\n",
            "  Cluster  1\n",
            "    Centroid  [ 32.77726672 -96.78080907]\n",
            "    #Samples  3324\n"
          ]
        },
        {
          "data": {
            "image/png": "[encoded data removed]",
            "text/plain": [
              "<Figure size 432x288 with 1 Axes>"
            ]
          },
          "metadata": {},
          "output_type": "display_data"
        }
      ],
      "source": [
        "models = []\n",
        "#TO DO:\n",
        "for i in range(10):    \n",
        "    user = data[data['In'] == unique_phone_no[i]].copy()\n",
        "    useful_features = ['TowerLat', 'TowerLon']\n",
        "    x_train = user[useful_features].copy()\n",
        "    kmeans = KMeans(n_clusters=2, random_state=0).fit(x_train)\n",
        "    clusterInfo(kmeans)\n",
        "    models.append(kmeans)\n",
        "    centroids = kmeans.cluster_centers_\n",
        "    plt.scatter(user['TowerLat'] , user['TowerLon'])\n",
        "    plt.scatter(centroids[:,0] , centroids[:,1],  marker=\"x\", color='b')\n",
        "    plt.legend()\n",
        "    plt.show()\n"
      ]
    },
    {
      "cell_type": "markdown",
      "metadata": {
        "id": "iCkeuZt7v9IP"
      },
      "source": [
        "**11. Alter your slice from user1, so that it includes only Weekday (Mon-Fri) values and before 5pm:**\n",
        "\n",
        "The idea is that the call was placed before 5pm. From Midnight-730a, the user is probably sleeping and won't call/wake up to take a call. There should be a brief time in the morning during their commute to work, then they'll spend the entire day at work. So the assumption is that most of the time is spent either at work or at the second, at home:\n",
        "        "
      ]
    },
    {
      "cell_type": "code",
      "execution_count": null,
      "metadata": {
        "colab": {
          "base_uri": "https://localhost:8080/",
          "height": 337
        },
        "id": "ZWJ7hWgNv9IT",
        "outputId": "3e4333df-2a43-4d35-bac2-e35d6e0bbf21"
      },
      "outputs": [
        {
          "data": {
            "text/html": [
              "<div>\n",
              "<style scoped>\n",
              "    .dataframe tbody tr th:only-of-type {\n",
              "        vertical-align: middle;\n",
              "    }\n",
              "\n",
              "    .dataframe tbody tr th {\n",
              "        vertical-align: top;\n",
              "    }\n",
              "\n",
              "    .dataframe thead th {\n",
              "        text-align: right;\n",
              "    }\n",
              "</style>\n",
              "<table border=\"1\" class=\"dataframe\">\n",
              "  <thead>\n",
              "    <tr style=\"text-align: right;\">\n",
              "      <th></th>\n",
              "      <th>In</th>\n",
              "      <th>Out</th>\n",
              "      <th>Direction</th>\n",
              "      <th>CallDate</th>\n",
              "      <th>CallTime</th>\n",
              "      <th>DOW</th>\n",
              "      <th>Duration</th>\n",
              "      <th>TowerID</th>\n",
              "      <th>TowerLat</th>\n",
              "      <th>TowerLon</th>\n",
              "    </tr>\n",
              "  </thead>\n",
              "  <tbody>\n",
              "    <tr>\n",
              "      <th>197</th>\n",
              "      <td>4638472273</td>\n",
              "      <td>5481755331</td>\n",
              "      <td>Incoming</td>\n",
              "      <td>2010-12-28</td>\n",
              "      <td>0 days 16:20:11.532130</td>\n",
              "      <td>Tue</td>\n",
              "      <td>0:03:56.069765</td>\n",
              "      <td>95d7920d-c3cd-4d20-a568-9a55800dc807</td>\n",
              "      <td>32.899944</td>\n",
              "      <td>-96.910389</td>\n",
              "    </tr>\n",
              "    <tr>\n",
              "      <th>200</th>\n",
              "      <td>4638472273</td>\n",
              "      <td>8180005891</td>\n",
              "      <td>Incoming</td>\n",
              "      <td>2010-12-28</td>\n",
              "      <td>0 days 15:27:51.105337</td>\n",
              "      <td>Tue</td>\n",
              "      <td>0:03:30.047757</td>\n",
              "      <td>95c91e8b-6ff1-4893-9df3-b0342636bd25</td>\n",
              "      <td>32.899944</td>\n",
              "      <td>-96.910389</td>\n",
              "    </tr>\n",
              "    <tr>\n",
              "      <th>248</th>\n",
              "      <td>4638472273</td>\n",
              "      <td>8180005891</td>\n",
              "      <td>Missed</td>\n",
              "      <td>2010-12-29</td>\n",
              "      <td>0 days 09:13:35.198987</td>\n",
              "      <td>Wed</td>\n",
              "      <td>0:02:10.574446</td>\n",
              "      <td>95c91e8b-6ff1-4893-9df3-b0342636bd25</td>\n",
              "      <td>32.899944</td>\n",
              "      <td>-96.910389</td>\n",
              "    </tr>\n",
              "    <tr>\n",
              "      <th>249</th>\n",
              "      <td>4638472273</td>\n",
              "      <td>2145623768</td>\n",
              "      <td>Incoming</td>\n",
              "      <td>2010-12-29</td>\n",
              "      <td>0 days 06:02:11.319738</td>\n",
              "      <td>Wed</td>\n",
              "      <td>0:04:34.436752</td>\n",
              "      <td>9baa92e7-e990-4e9e-8c0a-4c17cb4ecc7c</td>\n",
              "      <td>32.731611</td>\n",
              "      <td>-96.709417</td>\n",
              "    </tr>\n",
              "    <tr>\n",
              "      <th>250</th>\n",
              "      <td>4638472273</td>\n",
              "      <td>8068555700</td>\n",
              "      <td>Incoming</td>\n",
              "      <td>2010-12-29</td>\n",
              "      <td>0 days 13:54:14.724722</td>\n",
              "      <td>Wed</td>\n",
              "      <td>0:03:31.297111</td>\n",
              "      <td>fadaa83f-6001-45fd-aa4a-17d6c6b7ec00</td>\n",
              "      <td>32.899944</td>\n",
              "      <td>-96.910389</td>\n",
              "    </tr>\n",
              "    <tr>\n",
              "      <th>...</th>\n",
              "      <td>...</td>\n",
              "      <td>...</td>\n",
              "      <td>...</td>\n",
              "      <td>...</td>\n",
              "      <td>...</td>\n",
              "      <td>...</td>\n",
              "      <td>...</td>\n",
              "      <td>...</td>\n",
              "      <td>...</td>\n",
              "      <td>...</td>\n",
              "    </tr>\n",
              "    <tr>\n",
              "      <th>53091</th>\n",
              "      <td>4638472273</td>\n",
              "      <td>6150928001</td>\n",
              "      <td>Missed</td>\n",
              "      <td>2013-02-25</td>\n",
              "      <td>0 days 16:55:01.129212</td>\n",
              "      <td>Mon</td>\n",
              "      <td>0:02:48.163010</td>\n",
              "      <td>0296279d-18c3-4709-853e-3e20496ce444</td>\n",
              "      <td>32.899944</td>\n",
              "      <td>-96.910389</td>\n",
              "    </tr>\n",
              "    <tr>\n",
              "      <th>53138</th>\n",
              "      <td>4638472273</td>\n",
              "      <td>8068555700</td>\n",
              "      <td>Incoming</td>\n",
              "      <td>2013-02-26</td>\n",
              "      <td>0 days 07:28:38.486982</td>\n",
              "      <td>Tue</td>\n",
              "      <td>0:03:51.307727</td>\n",
              "      <td>cd9f3b1a-2eb8-4cdb-86d1-5d4c2740b1dc</td>\n",
              "      <td>32.731722</td>\n",
              "      <td>-96.709500</td>\n",
              "    </tr>\n",
              "    <tr>\n",
              "      <th>53140</th>\n",
              "      <td>4638472273</td>\n",
              "      <td>2666307251</td>\n",
              "      <td>Missed</td>\n",
              "      <td>2013-02-26</td>\n",
              "      <td>0 days 11:26:01.888502</td>\n",
              "      <td>Tue</td>\n",
              "      <td>0:03:08.177065</td>\n",
              "      <td>0296279d-18c3-4709-853e-3e20496ce444</td>\n",
              "      <td>32.899944</td>\n",
              "      <td>-96.910389</td>\n",
              "    </tr>\n",
              "    <tr>\n",
              "      <th>53143</th>\n",
              "      <td>4638472273</td>\n",
              "      <td>7721472178</td>\n",
              "      <td>Incoming</td>\n",
              "      <td>2013-02-26</td>\n",
              "      <td>0 days 07:50:41.435642</td>\n",
              "      <td>Tue</td>\n",
              "      <td>0:04:04.460385</td>\n",
              "      <td>e78826ad-45b0-45d4-90ec-4776d73f1d8e</td>\n",
              "      <td>32.864167</td>\n",
              "      <td>-96.836944</td>\n",
              "    </tr>\n",
              "    <tr>\n",
              "      <th>53144</th>\n",
              "      <td>4638472273</td>\n",
              "      <td>6150928001</td>\n",
              "      <td>Incoming</td>\n",
              "      <td>2013-02-26</td>\n",
              "      <td>0 days 07:49:56.273334</td>\n",
              "      <td>Tue</td>\n",
              "      <td>0:01:35.016406</td>\n",
              "      <td>b0320962-e409-487a-a435-e33ba8123768</td>\n",
              "      <td>32.881111</td>\n",
              "      <td>-96.856389</td>\n",
              "    </tr>\n",
              "  </tbody>\n",
              "</table>\n",
              "<p>1405 rows × 10 columns</p>\n",
              "</div>"
            ],
            "text/plain": [
              "               In         Out Direction   CallDate               CallTime  \\\n",
              "197    4638472273  5481755331  Incoming 2010-12-28 0 days 16:20:11.532130   \n",
              "200    4638472273  8180005891  Incoming 2010-12-28 0 days 15:27:51.105337   \n",
              "248    4638472273  8180005891    Missed 2010-12-29 0 days 09:13:35.198987   \n",
              "249    4638472273  2145623768  Incoming 2010-12-29 0 days 06:02:11.319738   \n",
              "250    4638472273  8068555700  Incoming 2010-12-29 0 days 13:54:14.724722   \n",
              "...           ...         ...       ...        ...                    ...   \n",
              "53091  4638472273  6150928001    Missed 2013-02-25 0 days 16:55:01.129212   \n",
              "53138  4638472273  8068555700  Incoming 2013-02-26 0 days 07:28:38.486982   \n",
              "53140  4638472273  2666307251    Missed 2013-02-26 0 days 11:26:01.888502   \n",
              "53143  4638472273  7721472178  Incoming 2013-02-26 0 days 07:50:41.435642   \n",
              "53144  4638472273  6150928001  Incoming 2013-02-26 0 days 07:49:56.273334   \n",
              "\n",
              "       DOW        Duration                               TowerID   TowerLat  \\\n",
              "197    Tue  0:03:56.069765  95d7920d-c3cd-4d20-a568-9a55800dc807  32.899944   \n",
              "200    Tue  0:03:30.047757  95c91e8b-6ff1-4893-9df3-b0342636bd25  32.899944   \n",
              "248    Wed  0:02:10.574446  95c91e8b-6ff1-4893-9df3-b0342636bd25  32.899944   \n",
              "249    Wed  0:04:34.436752  9baa92e7-e990-4e9e-8c0a-4c17cb4ecc7c  32.731611   \n",
              "250    Wed  0:03:31.297111  fadaa83f-6001-45fd-aa4a-17d6c6b7ec00  32.899944   \n",
              "...    ...             ...                                   ...        ...   \n",
              "53091  Mon  0:02:48.163010  0296279d-18c3-4709-853e-3e20496ce444  32.899944   \n",
              "53138  Tue  0:03:51.307727  cd9f3b1a-2eb8-4cdb-86d1-5d4c2740b1dc  32.731722   \n",
              "53140  Tue  0:03:08.177065  0296279d-18c3-4709-853e-3e20496ce444  32.899944   \n",
              "53143  Tue  0:04:04.460385  e78826ad-45b0-45d4-90ec-4776d73f1d8e  32.864167   \n",
              "53144  Tue  0:01:35.016406  b0320962-e409-487a-a435-e33ba8123768  32.881111   \n",
              "\n",
              "        TowerLon  \n",
              "197   -96.910389  \n",
              "200   -96.910389  \n",
              "248   -96.910389  \n",
              "249   -96.709417  \n",
              "250   -96.910389  \n",
              "...          ...  \n",
              "53091 -96.910389  \n",
              "53138 -96.709500  \n",
              "53140 -96.910389  \n",
              "53143 -96.836944  \n",
              "53144 -96.856389  \n",
              "\n",
              "[1405 rows x 10 columns]"
            ]
          },
          "execution_count": 73,
          "metadata": {},
          "output_type": "execute_result"
        }
      ],
      "source": [
        "#TO DO:\n",
        "user1_weekdays_daytime = user1[(user1['DOW'] != 'Sat') & (user1['DOW'] != 'Sun')].copy() # != is different symbol\n",
        "user1_weekdays_daytime = user1_weekdays_daytime[(user1_weekdays_daytime['CallTime'] <= '17:00:00') ]\n",
        "user1_weekdays_daytime"
      ]
    },
    {
      "cell_type": "code",
      "execution_count": null,
      "metadata": {
        "colab": {
          "base_uri": "https://localhost:8080/"
        },
        "id": "_Rjq-vZTv9Ic",
        "outputId": "e6fee29d-f1a1-482d-ca84-ee2e23642ed2"
      },
      "outputs": [
        {
          "data": {
            "text/plain": [
              "(1405, 10)"
            ]
          },
          "execution_count": 38,
          "metadata": {},
          "output_type": "execute_result"
        }
      ],
      "source": [
        "user1_weekdays_daytime.shape"
      ]
    },
    {
      "cell_type": "markdown",
      "metadata": {
        "id": "XbnvhPGXv9Im"
      },
      "source": [
        "**12. Plot the Cell Towers the above data frame:**\n"
      ]
    },
    {
      "cell_type": "code",
      "execution_count": null,
      "metadata": {
        "colab": {
          "base_uri": "https://localhost:8080/",
          "height": 299
        },
        "id": "r-QVfdNlv9Io",
        "outputId": "a38d984e-4b41-4e9e-a1e9-41b3b04a3afc"
      },
      "outputs": [
        {
          "data": {
            "text/plain": [
              "<AxesSubplot:xlabel='TowerLon', ylabel='TowerLat'>"
            ]
          },
          "execution_count": 39,
          "metadata": {},
          "output_type": "execute_result"
        },
        {
          "data": {
            "image/png": "[encoded data removed]",
            "text/plain": [
              "<Figure size 432x288 with 1 Axes>"
            ]
          },
          "metadata": {},
          "output_type": "display_data"
        }
      ],
      "source": [
        "#TO DO:\n",
        "sns.scatterplot(data=user1_weekdays_daytime, x='TowerLon', y = 'TowerLat')"
      ]
    },
    {
      "cell_type": "markdown",
      "metadata": {
        "id": "ubsPdzlMv9Iv"
      },
      "source": [
        "**13. Complete the doKmeans function:**"
      ]
    },
    {
      "cell_type": "code",
      "execution_count": null,
      "metadata": {
        "id": "uUwuF5SIv9Iw"
      },
      "outputs": [],
      "source": [
        "#TO DO:\n",
        "def doKMeans(data, num_clusters=0):\n",
        "    # TODO: Be sure to only feed in Lat and Lon coordinates to the KMeans algo, since none of the other\n",
        "    # data is suitable for your purposes. Since both Lat and Lon are (approximately) on the same scale,\n",
        "    # no feature scaling is required. Print out the centroid locations and add them onto your scatter\n",
        "    # plot. Use a distinguishable marker and color.\n",
        "    #\n",
        "    # Hint: Make sure you fit ONLY the coordinates, and in the CORRECT order (lat first). This is part\n",
        "    # of your domain expertise. Also, *YOU* need to create, initialize (and return) the variable named\n",
        "    # `model` here, which will be a SKLearn K-Means model for this to work:\n",
        "    \n",
        "    # .. your code here ..\n",
        "    useful_features = ['TowerLat', 'TowerLon']\n",
        "    x_train = data[useful_features].copy()\n",
        "    model = KMeans(n_clusters=num_clusters, random_state=0).fit(x_train)\n",
        "    return model"
      ]
    },
    {
      "cell_type": "markdown",
      "metadata": {
        "id": "ISnaCVVKv9I0"
      },
      "source": [
        "**14. Let's tun K-Means with `K=3`using doKMeans function for that dataframe (user1 on weekdays in daytime). Then print out the cluster info using clusterInfo function:**\n",
        "\n",
        "There should only be two areas of concentration. If you notice multiple areas that are \"hot\" (multiple areas the user spends a lot of time at that are FAR apart from one another)."
      ]
    },
    {
      "cell_type": "code",
      "execution_count": null,
      "metadata": {
        "colab": {
          "base_uri": "https://localhost:8080/"
        },
        "id": "lOS5JknSv9I3",
        "outputId": "43031f4a-d956-4e9b-d494-6dc0a906d18b"
      },
      "outputs": [
        {
          "name": "stdout",
          "output_type": "stream",
          "text": [
            "Cluster Analysis Inertia:  0.15891069523781096\n",
            "------------------------------------------\n",
            "\n",
            "  Cluster  0\n",
            "    Centroid  [ 32.9000009  -96.90951639]\n",
            "    #Samples  959\n",
            "\n",
            "  Cluster  1\n",
            "    Centroid  [ 32.73323174 -96.70816184]\n",
            "    #Samples  306\n",
            "\n",
            "  Cluster  2\n",
            "    Centroid  [ 32.86348712 -96.83818346]\n",
            "    #Samples  140\n"
          ]
        }
      ],
      "source": [
        "#TO DO:\n",
        "model = doKMeans(user1_weekdays_daytime, 3)\n",
        "clusterInfo(model)"
      ]
    },
    {
      "cell_type": "markdown",
      "metadata": {
        "id": "gJLSYUYav9I-"
      },
      "source": [
        "**15. Print out the mean `CallTime` value for the samples belonging to the cluster with the LEAST samples attached to it.** \n",
        "\n",
        "If our logic is correct, the cluster with the MOST samples will be work. The cluster with the 2nd most samples will be home. And the `K=3` cluster with the least samples should be somewhere in between the two. What time, on average, is the user in between home and work, between midnight and 5pm?"
      ]
    },
    {
      "cell_type": "code",
      "execution_count": null,
      "metadata": {
        "id": "gooxvGdu9Pw0"
      },
      "outputs": [],
      "source": [
        "#TO DO:\n",
        "user1_weekdays_daytime['CallTime'] = pd.to_datetime(user1_weekdays_daytime['CallTime'])\n",
        "minsamples = clusterWithFewestSamples(model).loc[minsamples, 'CallTime'].mean()"
      ]
    },
    {
      "cell_type": "code",
      "execution_count": null,
      "metadata": {
        "id": "8onllXAG9Pw0",
        "outputId": "419f5b60-b5a3-4919-eb6d-d580d3737c47"
      },
      "outputs": [
        {
          "data": {
            "text/html": [
              "<div>\n",
              "<style scoped>\n",
              "    .dataframe tbody tr th:only-of-type {\n",
              "        vertical-align: middle;\n",
              "    }\n",
              "\n",
              "    .dataframe tbody tr th {\n",
              "        vertical-align: top;\n",
              "    }\n",
              "\n",
              "    .dataframe thead th {\n",
              "        text-align: right;\n",
              "    }\n",
              "</style>\n",
              "<table border=\"1\" class=\"dataframe\">\n",
              "  <thead>\n",
              "    <tr style=\"text-align: right;\">\n",
              "      <th></th>\n",
              "      <th>In</th>\n",
              "      <th>Out</th>\n",
              "      <th>Direction</th>\n",
              "      <th>CallDate</th>\n",
              "      <th>CallTime</th>\n",
              "      <th>DOW</th>\n",
              "      <th>Duration</th>\n",
              "      <th>TowerID</th>\n",
              "      <th>TowerLat</th>\n",
              "      <th>TowerLon</th>\n",
              "      <th>Clus_km</th>\n",
              "    </tr>\n",
              "  </thead>\n",
              "  <tbody>\n",
              "    <tr>\n",
              "      <th>197</th>\n",
              "      <td>4638472273</td>\n",
              "      <td>5481755331</td>\n",
              "      <td>Incoming</td>\n",
              "      <td>2010-12-28</td>\n",
              "      <td>0 days 16:20:11.532130</td>\n",
              "      <td>Tue</td>\n",
              "      <td>0:03:56.069765</td>\n",
              "      <td>95d7920d-c3cd-4d20-a568-9a55800dc807</td>\n",
              "      <td>32.899944</td>\n",
              "      <td>-96.910389</td>\n",
              "      <td>0</td>\n",
              "    </tr>\n",
              "    <tr>\n",
              "      <th>200</th>\n",
              "      <td>4638472273</td>\n",
              "      <td>8180005891</td>\n",
              "      <td>Incoming</td>\n",
              "      <td>2010-12-28</td>\n",
              "      <td>0 days 15:27:51.105337</td>\n",
              "      <td>Tue</td>\n",
              "      <td>0:03:30.047757</td>\n",
              "      <td>95c91e8b-6ff1-4893-9df3-b0342636bd25</td>\n",
              "      <td>32.899944</td>\n",
              "      <td>-96.910389</td>\n",
              "      <td>0</td>\n",
              "    </tr>\n",
              "    <tr>\n",
              "      <th>248</th>\n",
              "      <td>4638472273</td>\n",
              "      <td>8180005891</td>\n",
              "      <td>Missed</td>\n",
              "      <td>2010-12-29</td>\n",
              "      <td>0 days 09:13:35.198987</td>\n",
              "      <td>Wed</td>\n",
              "      <td>0:02:10.574446</td>\n",
              "      <td>95c91e8b-6ff1-4893-9df3-b0342636bd25</td>\n",
              "      <td>32.899944</td>\n",
              "      <td>-96.910389</td>\n",
              "      <td>0</td>\n",
              "    </tr>\n",
              "    <tr>\n",
              "      <th>249</th>\n",
              "      <td>4638472273</td>\n",
              "      <td>2145623768</td>\n",
              "      <td>Incoming</td>\n",
              "      <td>2010-12-29</td>\n",
              "      <td>0 days 06:02:11.319738</td>\n",
              "      <td>Wed</td>\n",
              "      <td>0:04:34.436752</td>\n",
              "      <td>9baa92e7-e990-4e9e-8c0a-4c17cb4ecc7c</td>\n",
              "      <td>32.731611</td>\n",
              "      <td>-96.709417</td>\n",
              "      <td>1</td>\n",
              "    </tr>\n",
              "    <tr>\n",
              "      <th>250</th>\n",
              "      <td>4638472273</td>\n",
              "      <td>8068555700</td>\n",
              "      <td>Incoming</td>\n",
              "      <td>2010-12-29</td>\n",
              "      <td>0 days 13:54:14.724722</td>\n",
              "      <td>Wed</td>\n",
              "      <td>0:03:31.297111</td>\n",
              "      <td>fadaa83f-6001-45fd-aa4a-17d6c6b7ec00</td>\n",
              "      <td>32.899944</td>\n",
              "      <td>-96.910389</td>\n",
              "      <td>0</td>\n",
              "    </tr>\n",
              "    <tr>\n",
              "      <th>...</th>\n",
              "      <td>...</td>\n",
              "      <td>...</td>\n",
              "      <td>...</td>\n",
              "      <td>...</td>\n",
              "      <td>...</td>\n",
              "      <td>...</td>\n",
              "      <td>...</td>\n",
              "      <td>...</td>\n",
              "      <td>...</td>\n",
              "      <td>...</td>\n",
              "      <td>...</td>\n",
              "    </tr>\n",
              "    <tr>\n",
              "      <th>53091</th>\n",
              "      <td>4638472273</td>\n",
              "      <td>6150928001</td>\n",
              "      <td>Missed</td>\n",
              "      <td>2013-02-25</td>\n",
              "      <td>0 days 16:55:01.129212</td>\n",
              "      <td>Mon</td>\n",
              "      <td>0:02:48.163010</td>\n",
              "      <td>0296279d-18c3-4709-853e-3e20496ce444</td>\n",
              "      <td>32.899944</td>\n",
              "      <td>-96.910389</td>\n",
              "      <td>0</td>\n",
              "    </tr>\n",
              "    <tr>\n",
              "      <th>53138</th>\n",
              "      <td>4638472273</td>\n",
              "      <td>8068555700</td>\n",
              "      <td>Incoming</td>\n",
              "      <td>2013-02-26</td>\n",
              "      <td>0 days 07:28:38.486982</td>\n",
              "      <td>Tue</td>\n",
              "      <td>0:03:51.307727</td>\n",
              "      <td>cd9f3b1a-2eb8-4cdb-86d1-5d4c2740b1dc</td>\n",
              "      <td>32.731722</td>\n",
              "      <td>-96.709500</td>\n",
              "      <td>1</td>\n",
              "    </tr>\n",
              "    <tr>\n",
              "      <th>53140</th>\n",
              "      <td>4638472273</td>\n",
              "      <td>2666307251</td>\n",
              "      <td>Missed</td>\n",
              "      <td>2013-02-26</td>\n",
              "      <td>0 days 11:26:01.888502</td>\n",
              "      <td>Tue</td>\n",
              "      <td>0:03:08.177065</td>\n",
              "      <td>0296279d-18c3-4709-853e-3e20496ce444</td>\n",
              "      <td>32.899944</td>\n",
              "      <td>-96.910389</td>\n",
              "      <td>0</td>\n",
              "    </tr>\n",
              "    <tr>\n",
              "      <th>53143</th>\n",
              "      <td>4638472273</td>\n",
              "      <td>7721472178</td>\n",
              "      <td>Incoming</td>\n",
              "      <td>2013-02-26</td>\n",
              "      <td>0 days 07:50:41.435642</td>\n",
              "      <td>Tue</td>\n",
              "      <td>0:04:04.460385</td>\n",
              "      <td>e78826ad-45b0-45d4-90ec-4776d73f1d8e</td>\n",
              "      <td>32.864167</td>\n",
              "      <td>-96.836944</td>\n",
              "      <td>2</td>\n",
              "    </tr>\n",
              "    <tr>\n",
              "      <th>53144</th>\n",
              "      <td>4638472273</td>\n",
              "      <td>6150928001</td>\n",
              "      <td>Incoming</td>\n",
              "      <td>2013-02-26</td>\n",
              "      <td>0 days 07:49:56.273334</td>\n",
              "      <td>Tue</td>\n",
              "      <td>0:01:35.016406</td>\n",
              "      <td>b0320962-e409-487a-a435-e33ba8123768</td>\n",
              "      <td>32.881111</td>\n",
              "      <td>-96.856389</td>\n",
              "      <td>2</td>\n",
              "    </tr>\n",
              "  </tbody>\n",
              "</table>\n",
              "<p>1405 rows × 11 columns</p>\n",
              "</div>"
            ],
            "text/plain": [
              "               In         Out Direction   CallDate               CallTime  \\\n",
              "197    4638472273  5481755331  Incoming 2010-12-28 0 days 16:20:11.532130   \n",
              "200    4638472273  8180005891  Incoming 2010-12-28 0 days 15:27:51.105337   \n",
              "248    4638472273  8180005891    Missed 2010-12-29 0 days 09:13:35.198987   \n",
              "249    4638472273  2145623768  Incoming 2010-12-29 0 days 06:02:11.319738   \n",
              "250    4638472273  8068555700  Incoming 2010-12-29 0 days 13:54:14.724722   \n",
              "...           ...         ...       ...        ...                    ...   \n",
              "53091  4638472273  6150928001    Missed 2013-02-25 0 days 16:55:01.129212   \n",
              "53138  4638472273  8068555700  Incoming 2013-02-26 0 days 07:28:38.486982   \n",
              "53140  4638472273  2666307251    Missed 2013-02-26 0 days 11:26:01.888502   \n",
              "53143  4638472273  7721472178  Incoming 2013-02-26 0 days 07:50:41.435642   \n",
              "53144  4638472273  6150928001  Incoming 2013-02-26 0 days 07:49:56.273334   \n",
              "\n",
              "       DOW        Duration                               TowerID   TowerLat  \\\n",
              "197    Tue  0:03:56.069765  95d7920d-c3cd-4d20-a568-9a55800dc807  32.899944   \n",
              "200    Tue  0:03:30.047757  95c91e8b-6ff1-4893-9df3-b0342636bd25  32.899944   \n",
              "248    Wed  0:02:10.574446  95c91e8b-6ff1-4893-9df3-b0342636bd25  32.899944   \n",
              "249    Wed  0:04:34.436752  9baa92e7-e990-4e9e-8c0a-4c17cb4ecc7c  32.731611   \n",
              "250    Wed  0:03:31.297111  fadaa83f-6001-45fd-aa4a-17d6c6b7ec00  32.899944   \n",
              "...    ...             ...                                   ...        ...   \n",
              "53091  Mon  0:02:48.163010  0296279d-18c3-4709-853e-3e20496ce444  32.899944   \n",
              "53138  Tue  0:03:51.307727  cd9f3b1a-2eb8-4cdb-86d1-5d4c2740b1dc  32.731722   \n",
              "53140  Tue  0:03:08.177065  0296279d-18c3-4709-853e-3e20496ce444  32.899944   \n",
              "53143  Tue  0:04:04.460385  e78826ad-45b0-45d4-90ec-4776d73f1d8e  32.864167   \n",
              "53144  Tue  0:01:35.016406  b0320962-e409-487a-a435-e33ba8123768  32.881111   \n",
              "\n",
              "        TowerLon  Clus_km  \n",
              "197   -96.910389        0  \n",
              "200   -96.910389        0  \n",
              "248   -96.910389        0  \n",
              "249   -96.709417        1  \n",
              "250   -96.910389        0  \n",
              "...          ...      ...  \n",
              "53091 -96.910389        0  \n",
              "53138 -96.709500        1  \n",
              "53140 -96.910389        0  \n",
              "53143 -96.836944        2  \n",
              "53144 -96.856389        2  \n",
              "\n",
              "[1405 rows x 11 columns]"
            ]
          },
          "execution_count": 74,
          "metadata": {},
          "output_type": "execute_result"
        }
      ],
      "source": [
        "labels = model.labels_\n",
        "user1_weekdays_daytime[\"Clus_km\"] = labels\n",
        "user1_weekdays_daytime"
      ]
    },
    {
      "cell_type": "code",
      "execution_count": null,
      "metadata": {
        "id": "keARvLaa9Pw0",
        "outputId": "6f534073-28a1-4e44-d2d4-c6d2b2f0b267"
      },
      "outputs": [
        {
          "name": "stdout",
          "output_type": "stream",
          "text": [
            "\n",
            "  Cluster With Fewest Samples:  2\n"
          ]
        },
        {
          "data": {
            "text/plain": [
              "array([False, False, False, ..., False,  True,  True])"
            ]
          },
          "execution_count": 87,
          "metadata": {},
          "output_type": "execute_result"
        }
      ],
      "source": [
        "clusterWithFewestSamples(model)"
      ]
    },
    {
      "cell_type": "code",
      "execution_count": null,
      "metadata": {
        "id": "o4aDcWB09Pw0",
        "outputId": "429120e4-441a-4b77-f947-982bfbf62170"
      },
      "outputs": [
        {
          "data": {
            "text/html": [
              "<div>\n",
              "<style scoped>\n",
              "    .dataframe tbody tr th:only-of-type {\n",
              "        vertical-align: middle;\n",
              "    }\n",
              "\n",
              "    .dataframe tbody tr th {\n",
              "        vertical-align: top;\n",
              "    }\n",
              "\n",
              "    .dataframe thead th {\n",
              "        text-align: right;\n",
              "    }\n",
              "</style>\n",
              "<table border=\"1\" class=\"dataframe\">\n",
              "  <thead>\n",
              "    <tr style=\"text-align: right;\">\n",
              "      <th></th>\n",
              "      <th>In</th>\n",
              "      <th>Out</th>\n",
              "      <th>Direction</th>\n",
              "      <th>CallDate</th>\n",
              "      <th>CallTime</th>\n",
              "      <th>DOW</th>\n",
              "      <th>Duration</th>\n",
              "      <th>TowerID</th>\n",
              "      <th>TowerLat</th>\n",
              "      <th>TowerLon</th>\n",
              "      <th>Clus_km</th>\n",
              "    </tr>\n",
              "  </thead>\n",
              "  <tbody>\n",
              "    <tr>\n",
              "      <th>687</th>\n",
              "      <td>4638472273</td>\n",
              "      <td>7428841195</td>\n",
              "      <td>Incoming</td>\n",
              "      <td>2011-01-04</td>\n",
              "      <td>0 days 07:58:32.520458</td>\n",
              "      <td>Tue</td>\n",
              "      <td>0:00:07.898801</td>\n",
              "      <td>255916de-6cc8-4e23-9788-5cbc1fc76232</td>\n",
              "      <td>32.850833</td>\n",
              "      <td>-96.812500</td>\n",
              "      <td>2</td>\n",
              "    </tr>\n",
              "    <tr>\n",
              "      <th>1096</th>\n",
              "      <td>4638472273</td>\n",
              "      <td>8180005891</td>\n",
              "      <td>Incoming</td>\n",
              "      <td>2011-01-10</td>\n",
              "      <td>0 days 07:47:24.372195</td>\n",
              "      <td>Mon</td>\n",
              "      <td>0:04:50.221544</td>\n",
              "      <td>a9fff0cf-b6ca-4f94-ad74-c9da6d9f394e</td>\n",
              "      <td>32.847528</td>\n",
              "      <td>-96.834583</td>\n",
              "      <td>2</td>\n",
              "    </tr>\n",
              "    <tr>\n",
              "      <th>1172</th>\n",
              "      <td>4638472273</td>\n",
              "      <td>7922223441</td>\n",
              "      <td>Incoming</td>\n",
              "      <td>2011-01-11</td>\n",
              "      <td>0 days 07:40:49.055404</td>\n",
              "      <td>Tue</td>\n",
              "      <td>0:04:09.214850</td>\n",
              "      <td>abf4411c-3a5b-4c8d-929f-e0fa3a4a4c48</td>\n",
              "      <td>32.850000</td>\n",
              "      <td>-96.812500</td>\n",
              "      <td>2</td>\n",
              "    </tr>\n",
              "    <tr>\n",
              "      <th>1362</th>\n",
              "      <td>4638472273</td>\n",
              "      <td>4217121115</td>\n",
              "      <td>Incoming</td>\n",
              "      <td>2011-01-14</td>\n",
              "      <td>0 days 07:55:23.333518</td>\n",
              "      <td>Fri</td>\n",
              "      <td>0:02:10.838382</td>\n",
              "      <td>a9fff0cf-b6ca-4f94-ad74-c9da6d9f394e</td>\n",
              "      <td>32.847528</td>\n",
              "      <td>-96.834583</td>\n",
              "      <td>2</td>\n",
              "    </tr>\n",
              "    <tr>\n",
              "      <th>1588</th>\n",
              "      <td>4638472273</td>\n",
              "      <td>1755442610</td>\n",
              "      <td>Missed</td>\n",
              "      <td>2011-01-18</td>\n",
              "      <td>0 days 07:55:20.281080</td>\n",
              "      <td>Tue</td>\n",
              "      <td>0:03:09.666667</td>\n",
              "      <td>3a7fc5bf-01db-46cd-9658-0ec37598d3a8</td>\n",
              "      <td>32.825278</td>\n",
              "      <td>-96.817778</td>\n",
              "      <td>2</td>\n",
              "    </tr>\n",
              "    <tr>\n",
              "      <th>...</th>\n",
              "      <td>...</td>\n",
              "      <td>...</td>\n",
              "      <td>...</td>\n",
              "      <td>...</td>\n",
              "      <td>...</td>\n",
              "      <td>...</td>\n",
              "      <td>...</td>\n",
              "      <td>...</td>\n",
              "      <td>...</td>\n",
              "      <td>...</td>\n",
              "      <td>...</td>\n",
              "    </tr>\n",
              "    <tr>\n",
              "      <th>52272</th>\n",
              "      <td>4638472273</td>\n",
              "      <td>5455269258</td>\n",
              "      <td>Incoming</td>\n",
              "      <td>2013-02-13</td>\n",
              "      <td>0 days 07:37:56.201487</td>\n",
              "      <td>Wed</td>\n",
              "      <td>0:02:46.267715</td>\n",
              "      <td>831f2efc-a648-4c5d-8602-d30a2d184b11</td>\n",
              "      <td>32.825278</td>\n",
              "      <td>-96.817778</td>\n",
              "      <td>2</td>\n",
              "    </tr>\n",
              "    <tr>\n",
              "      <th>52433</th>\n",
              "      <td>4638472273</td>\n",
              "      <td>4217121115</td>\n",
              "      <td>Incoming</td>\n",
              "      <td>2013-02-15</td>\n",
              "      <td>0 days 07:39:50.636877</td>\n",
              "      <td>Fri</td>\n",
              "      <td>0:03:55.769800</td>\n",
              "      <td>87ceaad8-f8e1-44a1-8ff8-fa469e258677</td>\n",
              "      <td>32.864167</td>\n",
              "      <td>-96.836944</td>\n",
              "      <td>2</td>\n",
              "    </tr>\n",
              "    <tr>\n",
              "      <th>52660</th>\n",
              "      <td>4638472273</td>\n",
              "      <td>2946222380</td>\n",
              "      <td>Incoming</td>\n",
              "      <td>2013-02-18</td>\n",
              "      <td>0 days 07:46:58.730624</td>\n",
              "      <td>Mon</td>\n",
              "      <td>0:05:06.728362</td>\n",
              "      <td>abf4411c-3a5b-4c8d-929f-e0fa3a4a4c48</td>\n",
              "      <td>32.850000</td>\n",
              "      <td>-96.812500</td>\n",
              "      <td>2</td>\n",
              "    </tr>\n",
              "    <tr>\n",
              "      <th>53143</th>\n",
              "      <td>4638472273</td>\n",
              "      <td>7721472178</td>\n",
              "      <td>Incoming</td>\n",
              "      <td>2013-02-26</td>\n",
              "      <td>0 days 07:50:41.435642</td>\n",
              "      <td>Tue</td>\n",
              "      <td>0:04:04.460385</td>\n",
              "      <td>e78826ad-45b0-45d4-90ec-4776d73f1d8e</td>\n",
              "      <td>32.864167</td>\n",
              "      <td>-96.836944</td>\n",
              "      <td>2</td>\n",
              "    </tr>\n",
              "    <tr>\n",
              "      <th>53144</th>\n",
              "      <td>4638472273</td>\n",
              "      <td>6150928001</td>\n",
              "      <td>Incoming</td>\n",
              "      <td>2013-02-26</td>\n",
              "      <td>0 days 07:49:56.273334</td>\n",
              "      <td>Tue</td>\n",
              "      <td>0:01:35.016406</td>\n",
              "      <td>b0320962-e409-487a-a435-e33ba8123768</td>\n",
              "      <td>32.881111</td>\n",
              "      <td>-96.856389</td>\n",
              "      <td>2</td>\n",
              "    </tr>\n",
              "  </tbody>\n",
              "</table>\n",
              "<p>140 rows × 11 columns</p>\n",
              "</div>"
            ],
            "text/plain": [
              "               In         Out Direction   CallDate               CallTime  \\\n",
              "687    4638472273  7428841195  Incoming 2011-01-04 0 days 07:58:32.520458   \n",
              "1096   4638472273  8180005891  Incoming 2011-01-10 0 days 07:47:24.372195   \n",
              "1172   4638472273  7922223441  Incoming 2011-01-11 0 days 07:40:49.055404   \n",
              "1362   4638472273  4217121115  Incoming 2011-01-14 0 days 07:55:23.333518   \n",
              "1588   4638472273  1755442610    Missed 2011-01-18 0 days 07:55:20.281080   \n",
              "...           ...         ...       ...        ...                    ...   \n",
              "52272  4638472273  5455269258  Incoming 2013-02-13 0 days 07:37:56.201487   \n",
              "52433  4638472273  4217121115  Incoming 2013-02-15 0 days 07:39:50.636877   \n",
              "52660  4638472273  2946222380  Incoming 2013-02-18 0 days 07:46:58.730624   \n",
              "53143  4638472273  7721472178  Incoming 2013-02-26 0 days 07:50:41.435642   \n",
              "53144  4638472273  6150928001  Incoming 2013-02-26 0 days 07:49:56.273334   \n",
              "\n",
              "       DOW        Duration                               TowerID   TowerLat  \\\n",
              "687    Tue  0:00:07.898801  255916de-6cc8-4e23-9788-5cbc1fc76232  32.850833   \n",
              "1096   Mon  0:04:50.221544  a9fff0cf-b6ca-4f94-ad74-c9da6d9f394e  32.847528   \n",
              "1172   Tue  0:04:09.214850  abf4411c-3a5b-4c8d-929f-e0fa3a4a4c48  32.850000   \n",
              "1362   Fri  0:02:10.838382  a9fff0cf-b6ca-4f94-ad74-c9da6d9f394e  32.847528   \n",
              "1588   Tue  0:03:09.666667  3a7fc5bf-01db-46cd-9658-0ec37598d3a8  32.825278   \n",
              "...    ...             ...                                   ...        ...   \n",
              "52272  Wed  0:02:46.267715  831f2efc-a648-4c5d-8602-d30a2d184b11  32.825278   \n",
              "52433  Fri  0:03:55.769800  87ceaad8-f8e1-44a1-8ff8-fa469e258677  32.864167   \n",
              "52660  Mon  0:05:06.728362  abf4411c-3a5b-4c8d-929f-e0fa3a4a4c48  32.850000   \n",
              "53143  Tue  0:04:04.460385  e78826ad-45b0-45d4-90ec-4776d73f1d8e  32.864167   \n",
              "53144  Tue  0:01:35.016406  b0320962-e409-487a-a435-e33ba8123768  32.881111   \n",
              "\n",
              "        TowerLon  Clus_km  \n",
              "687   -96.812500        2  \n",
              "1096  -96.834583        2  \n",
              "1172  -96.812500        2  \n",
              "1362  -96.834583        2  \n",
              "1588  -96.817778        2  \n",
              "...          ...      ...  \n",
              "52272 -96.817778        2  \n",
              "52433 -96.836944        2  \n",
              "52660 -96.812500        2  \n",
              "53143 -96.836944        2  \n",
              "53144 -96.856389        2  \n",
              "\n",
              "[140 rows x 11 columns]"
            ]
          },
          "execution_count": 81,
          "metadata": {},
          "output_type": "execute_result"
        }
      ],
      "source": [
        "user1_weekdays_daytime_FewestSamples = user1_weekdays_daytime[(user1_weekdays_daytime['Clus_km'] == 2)].copy()\n",
        "user1_weekdays_daytime_FewestSamples"
      ]
    },
    {
      "cell_type": "code",
      "execution_count": null,
      "metadata": {
        "id": "uQh87orr9Pw0",
        "outputId": "554b724e-a035-4d08-b030-4aa10ed804ae"
      },
      "outputs": [
        {
          "data": {
            "text/plain": [
              "Timedelta('0 days 07:49:53.168115942')"
            ]
          },
          "execution_count": 82,
          "metadata": {},
          "output_type": "execute_result"
        }
      ],
      "source": [
        "user1_weekdays_daytime_FewestSamples['CallTime'].mean()"
      ]
    },
    {
      "cell_type": "markdown",
      "metadata": {
        "id": "O6b2Ypd5v9JE"
      },
      "source": [
        "**16. Let's visualize the results by drawing the X's for the cluster centers combined with location plot:**\n"
      ]
    },
    {
      "cell_type": "code",
      "execution_count": null,
      "metadata": {
        "colab": {
          "base_uri": "https://localhost:8080/",
          "height": 282
        },
        "id": "W9x4LgKZv9JF",
        "outputId": "5607baf6-be82-49f6-ff39-bd46d56035ab"
      },
      "outputs": [
        {
          "name": "stderr",
          "output_type": "stream",
          "text": [
            "No artists with labels found to put in legend.  Note that artists whose label start with an underscore are ignored when legend() is called with no argument.\n"
          ]
        },
        {
          "data": {
            "image/png": "[encoded data removed]",
            "text/plain": [
              "<Figure size 432x288 with 1 Axes>"
            ]
          },
          "metadata": {},
          "output_type": "display_data"
        }
      ],
      "source": [
        "#TO DO:\n",
        "centers = model.cluster_centers_\n",
        "plt.scatter(user1_weekdays_daytime['TowerLat'] , user1_weekdays_daytime['TowerLon'], c=model.labels_, s=50, cmap='viridis')\n",
        "plt.scatter(centers[:,0] , centers[:,1],  marker=\"x\", color='b')\n",
        "plt.legend()\n",
        "plt.show()"
      ]
    },
    {
      "cell_type": "markdown",
      "metadata": {
        "id": "FaNcftFDv9JJ"
      },
      "source": [
        "# Adanved part (15%  of the total score)"
      ]
    },
    {
      "cell_type": "markdown",
      "metadata": {
        "id": "Afd5uqJav9JK"
      },
      "source": [
        "**17. Now that you have a system in place, repeat the the steps 12, 14 and 16 for all 10 individuals in the dataset.**"
      ]
    },
    {
      "cell_type": "code",
      "execution_count": null,
      "metadata": {
        "colab": {
          "base_uri": "https://localhost:8080/",
          "height": 1000
        },
        "id": "Q9WGzZJDv9JL",
        "outputId": "231f3938-42a4-4110-c5e6-49225c79db9f"
      },
      "outputs": [
        {
          "name": "stderr",
          "output_type": "stream",
          "text": [
            "No artists with labels found to put in legend.  Note that artists whose label start with an underscore are ignored when legend() is called with no argument.\n"
          ]
        },
        {
          "name": "stdout",
          "output_type": "stream",
          "text": [
            "Cluster Analysis Inertia:  0.15891069523781096\n",
            "------------------------------------------\n",
            "\n",
            "  Cluster  0\n",
            "    Centroid  [ 32.9000009  -96.90951639]\n",
            "    #Samples  959\n",
            "\n",
            "  Cluster  1\n",
            "    Centroid  [ 32.73323174 -96.70816184]\n",
            "    #Samples  306\n",
            "\n",
            "  Cluster  2\n",
            "    Centroid  [ 32.86348712 -96.83818346]\n",
            "    #Samples  140\n"
          ]
        },
        {
          "data": {
            "image/png": "[encoded data removed]",
            "text/plain": [
              "<Figure size 432x288 with 1 Axes>"
            ]
          },
          "metadata": {},
          "output_type": "display_data"
        },
        {
          "name": "stdout",
          "output_type": "stream",
          "text": [
            "Cluster Analysis Inertia:  0.15891069523781096\n",
            "------------------------------------------\n",
            "\n",
            "  Cluster  0\n",
            "    Centroid  [ 32.9000009  -96.90951639]"
          ]
        },
        {
          "name": "stderr",
          "output_type": "stream",
          "text": [
            "No artists with labels found to put in legend.  Note that artists whose label start with an underscore are ignored when legend() is called with no argument.\n"
          ]
        },
        {
          "name": "stdout",
          "output_type": "stream",
          "text": [
            "\n",
            "    #Samples  959\n",
            "\n",
            "  Cluster  1\n",
            "    Centroid  [ 32.73323174 -96.70816184]\n",
            "    #Samples  306\n",
            "\n",
            "  Cluster  2\n",
            "    Centroid  [ 32.86348712 -96.83818346]\n",
            "    #Samples  140\n"
          ]
        },
        {
          "data": {
            "image/png": "[encoded data removed]",
            "text/plain": [
              "<Figure size 432x288 with 1 Axes>"
            ]
          },
          "metadata": {},
          "output_type": "display_data"
        },
        {
          "name": "stderr",
          "output_type": "stream",
          "text": [
            "No artists with labels found to put in legend.  Note that artists whose label start with an underscore are ignored when legend() is called with no argument.\n"
          ]
        },
        {
          "name": "stdout",
          "output_type": "stream",
          "text": [
            "Cluster Analysis Inertia:  0.15891069523781096\n",
            "------------------------------------------\n",
            "\n",
            "  Cluster  0\n",
            "    Centroid  [ 32.9000009  -96.90951639]\n",
            "    #Samples  959\n",
            "\n",
            "  Cluster  1\n",
            "    Centroid  [ 32.73323174 -96.70816184]\n",
            "    #Samples  306\n",
            "\n",
            "  Cluster  2\n",
            "    Centroid  [ 32.86348712 -96.83818346]\n",
            "    #Samples  140\n"
          ]
        },
        {
          "data": {
            "image/png": "[encoded data removed]",
            "text/plain": [
              "<Figure size 432x288 with 1 Axes>"
            ]
          },
          "metadata": {},
          "output_type": "display_data"
        },
        {
          "name": "stderr",
          "output_type": "stream",
          "text": [
            "No artists with labels found to put in legend.  Note that artists whose label start with an underscore are ignored when legend() is called with no argument.\n"
          ]
        },
        {
          "name": "stdout",
          "output_type": "stream",
          "text": [
            "Cluster Analysis Inertia:  0.15891069523781096\n",
            "------------------------------------------\n",
            "\n",
            "  Cluster  0\n",
            "    Centroid  [ 32.9000009  -96.90951639]\n",
            "    #Samples  959\n",
            "\n",
            "  Cluster  1\n",
            "    Centroid  [ 32.73323174 -96.70816184]\n",
            "    #Samples  306\n",
            "\n",
            "  Cluster  2\n",
            "    Centroid  [ 32.86348712 -96.83818346]\n",
            "    #Samples  140\n"
          ]
        },
        {
          "data": {
            "image/png": "[encoded data removed]",
            "text/plain": [
              "<Figure size 432x288 with 1 Axes>"
            ]
          },
          "metadata": {},
          "output_type": "display_data"
        },
        {
          "name": "stdout",
          "output_type": "stream",
          "text": [
            "Cluster Analysis Inertia:  0.15891069523781096\n",
            "------------------------------------------\n",
            "\n",
            "  Cluster  0\n",
            "    Centroid  [ 32.9000009  -96.90951639]\n",
            "    #Samples  959\n",
            "\n",
            "  Cluster  1\n",
            "    Centroid  [ 32.73323174 -96.70816184]\n",
            "    #Samples  306\n",
            "\n",
            "  Cluster  2\n",
            "    Centroid  [ 32.86348712 -96.83818346]\n",
            "    #Samples  140\n"
          ]
        },
        {
          "name": "stderr",
          "output_type": "stream",
          "text": [
            "No artists with labels found to put in legend.  Note that artists whose label start with an underscore are ignored when legend() is called with no argument.\n"
          ]
        },
        {
          "data": {
            "image/png": "[encoded data removed]",
            "text/plain": [
              "<Figure size 432x288 with 1 Axes>"
            ]
          },
          "metadata": {},
          "output_type": "display_data"
        },
        {
          "name": "stdout",
          "output_type": "stream",
          "text": [
            "Cluster Analysis Inertia:  0.15891069523781096\n",
            "------------------------------------------\n",
            "\n",
            "  Cluster  0\n",
            "    Centroid  [ 32.9000009  -96.90951639]\n",
            "    #Samples  959\n",
            "\n",
            "  Cluster  1\n",
            "    Centroid  [ 32.73323174 -96.70816184]\n",
            "    #Samples  306\n",
            "\n",
            "  Cluster  2\n",
            "    Centroid  [ 32.86348712 -96.83818346]\n",
            "    #Samples  140\n"
          ]
        },
        {
          "name": "stderr",
          "output_type": "stream",
          "text": [
            "No artists with labels found to put in legend.  Note that artists whose label start with an underscore are ignored when legend() is called with no argument.\n"
          ]
        },
        {
          "data": {
            "image/png": "[encoded data removed]",
            "text/plain": [
              "<Figure size 432x288 with 1 Axes>"
            ]
          },
          "metadata": {},
          "output_type": "display_data"
        },
        {
          "name": "stdout",
          "output_type": "stream",
          "text": [
            "Cluster Analysis Inertia:  0.15891069523781096\n",
            "------------------------------------------\n",
            "\n",
            "  Cluster  0\n",
            "    Centroid  [ 32.9000009  -96.90951639]\n",
            "    #Samples  959\n",
            "\n",
            "  Cluster  1\n",
            "    Centroid  [ 32.73323174 -96.70816184]\n"
          ]
        },
        {
          "name": "stderr",
          "output_type": "stream",
          "text": [
            "No artists with labels found to put in legend.  Note that artists whose label start with an underscore are ignored when legend() is called with no argument.\n"
          ]
        },
        {
          "name": "stdout",
          "output_type": "stream",
          "text": [
            "    #Samples  306\n",
            "\n",
            "  Cluster  2\n",
            "    Centroid  [ 32.86348712 -96.83818346]\n",
            "    #Samples  140\n"
          ]
        },
        {
          "data": {
            "image/png": "[encoded data removed]",
            "text/plain": [
              "<Figure size 432x288 with 1 Axes>"
            ]
          },
          "metadata": {},
          "output_type": "display_data"
        },
        {
          "name": "stdout",
          "output_type": "stream",
          "text": [
            "Cluster Analysis Inertia:  0.15891069523781096\n",
            "------------------------------------------\n",
            "\n",
            "  Cluster  0\n",
            "    Centroid  [ 32.9000009  -96.90951639]\n",
            "    #Samples  959\n",
            "\n",
            "  Cluster  1\n",
            "    Centroid  [ 32.73323174 -96.70816184]\n",
            "    #Samples  306\n",
            "\n",
            "  Cluster  2\n",
            "    Centroid  [ 32.86348712 -96.83818346]\n",
            "    #Samples  140\n"
          ]
        },
        {
          "name": "stderr",
          "output_type": "stream",
          "text": [
            "No artists with labels found to put in legend.  Note that artists whose label start with an underscore are ignored when legend() is called with no argument.\n"
          ]
        },
        {
          "data": {
            "image/png": "[encoded data removed]",
            "text/plain": [
              "<Figure size 432x288 with 1 Axes>"
            ]
          },
          "metadata": {},
          "output_type": "display_data"
        },
        {
          "name": "stdout",
          "output_type": "stream",
          "text": [
            "Cluster Analysis Inertia:  0.15891069523781096\n",
            "------------------------------------------\n",
            "\n",
            "  Cluster  0\n",
            "    Centroid  [ 32.9000009  -96.90951639]\n"
          ]
        },
        {
          "name": "stderr",
          "output_type": "stream",
          "text": [
            "No artists with labels found to put in legend.  Note that artists whose label start with an underscore are ignored when legend() is called with no argument.\n"
          ]
        },
        {
          "name": "stdout",
          "output_type": "stream",
          "text": [
            "    #Samples  959\n",
            "\n",
            "  Cluster  1\n",
            "    Centroid  [ 32.73323174 -96.70816184]\n",
            "    #Samples  306\n",
            "\n",
            "  Cluster  2\n",
            "    Centroid  [ 32.86348712 -96.83818346]\n",
            "    #Samples  140\n"
          ]
        },
        {
          "data": {
            "image/png": "[encoded data removed]",
            "text/plain": [
              "<Figure size 432x288 with 1 Axes>"
            ]
          },
          "metadata": {},
          "output_type": "display_data"
        },
        {
          "name": "stdout",
          "output_type": "stream",
          "text": [
            "Cluster Analysis Inertia:  0.15891069523781096\n",
            "------------------------------------------\n",
            "\n",
            "  Cluster  0\n",
            "    Centroid  [ 32.9000009  -96.90951639]\n"
          ]
        },
        {
          "name": "stderr",
          "output_type": "stream",
          "text": [
            "No artists with labels found to put in legend.  Note that artists whose label start with an underscore are ignored when legend() is called with no argument.\n"
          ]
        },
        {
          "name": "stdout",
          "output_type": "stream",
          "text": [
            "    #Samples  959\n",
            "\n",
            "  Cluster  1\n",
            "    Centroid  [ 32.73323174 -96.70816184]\n",
            "    #Samples  306\n",
            "\n",
            "  Cluster  2\n",
            "    Centroid  [ 32.86348712 -96.83818346]\n",
            "    #Samples  140\n"
          ]
        },
        {
          "data": {
            "image/png": "[encoded data removed]",
            "text/plain": [
              "<Figure size 432x288 with 1 Axes>"
            ]
          },
          "metadata": {},
          "output_type": "display_data"
        }
      ],
      "source": [
        "#TO DO:\n",
        "for i in range(10):    \n",
        "    user = data[data['In'] == unique_phone_no[i]].copy()    \n",
        "    useful_features = ['TowerLat', 'TowerLon']\n",
        "\n",
        "    user1_weekdays_daytime = user1[(user1['DOW'] != 'Sat') & (user1['DOW'] != 'Sun')].copy()\n",
        "    user1_weekdays_daytime = user1_weekdays_daytime[(user1_weekdays_daytime['CallTime'] <= '17:00:00')]\n",
        "\n",
        "    model = doKMeans(user1_weekdays_daytime, 3)\n",
        "    clusterInfo(model) \n",
        "    centers = model.cluster_centers_\n",
        "    plt.scatter(user1_weekdays_daytime['TowerLat'] , user1_weekdays_daytime['TowerLon'], c=model.labels_, s=50, cmap='viridis')\n",
        "    plt.scatter(centers[:,0] , centers[:,1],  marker=\"x\", color='b')\n",
        "    plt.legend()\n",
        "    plt.show()"
      ]
    },
    {
      "cell_type": "code",
      "execution_count": null,
      "metadata": {
        "id": "-BJH3ONgv9JT"
      },
      "outputs": [],
      "source": []
    }
  ],
  "metadata": {
    "colab": {
      "provenance": [],
      "include_colab_link": true
    },
    "kernelspec": {
      "display_name": "Python 3 (ipykernel)",
      "language": "python",
      "name": "python3"
    },
    "language_info": {
      "codemirror_mode": {
        "name": "ipython",
        "version": 3
      },
      "file_extension": ".py",
      "mimetype": "text/x-python",
      "name": "python",
      "nbconvert_exporter": "python",
      "pygments_lexer": "ipython3",
      "version": "3.10.3"
    }
  },
  "nbformat": 4,
  "nbformat_minor": 0
}